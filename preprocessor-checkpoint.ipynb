{
 "cells": [
  {
   "cell_type": "markdown",
   "metadata": {},
   "source": [
    "# The Task\n",
    "\n",
    "Preprocessing survey data for focadata "
   ]
  },
  {
   "cell_type": "code",
   "execution_count": 119,
   "metadata": {},
   "outputs": [],
   "source": [
    "import pandas as pd\n",
    "import numpy as np\n",
    "import seaborn as sns"
   ]
  },
  {
   "cell_type": "markdown",
   "metadata": {},
   "source": [
    "1. The data science pipeline expects that NULL values are coded in a consistent fashion. Transform\n",
    "all missing values such that they are consistent with one another.\n",
    "2. De-duplicate the data such that every row is unique.\n",
    "3. Convert the year of birth column into an “age” column (i.e. year_of_birth: 1990 => age: 30) DONE\n",
    "4. Using the lookup table (postcode_lookup.csv) convert the postcode column into a\n",
    "Westminster Constituency Code. 1/2 DONE\n",
    "5. You will see that certain questions are follow-ups, and only get asked according to the response\n",
    "to the previous question (“If you answered yes, to the previous question - would you ever ...?”). In\n",
    "these cases please combine the two such that the “no” response (in this case) appears in the\n",
    "follow-up question, rather than the follow-up column containing missing values for those people\n",
    "to whom the question was not presented.\n",
    "6. Please remove any columns that you think look like junk"
   ]
  },
  {
   "cell_type": "code",
   "execution_count": null,
   "metadata": {},
   "outputs": [],
   "source": []
  },
  {
   "cell_type": "markdown",
   "metadata": {},
   "source": [
    "removing nulls \n",
    " - Average all data points and full nans with average/most common \n",
    " - Label nan points as unknown\n",
    " - Estimate value from other sources"
   ]
  },
  {
   "cell_type": "markdown",
   "metadata": {},
   "source": [
    "# Constants"
   ]
  },
  {
   "cell_type": "code",
   "execution_count": 120,
   "metadata": {},
   "outputs": [],
   "source": [
    "raw_data_fname = r'C:\\Users\\bless\\OneDrive\\Documents\\focaldatajuniorapplieddatascientist\\raw_survey.csv'\n",
    "postcode_lookup_fname = r'C:\\Users\\bless\\OneDrive\\Documents\\focaldatajuniorapplieddatascientist\\postcode_lookup.csv'"
   ]
  },
  {
   "cell_type": "markdown",
   "metadata": {},
   "source": [
    "## Loading the data"
   ]
  },
  {
   "cell_type": "code",
   "execution_count": 121,
   "metadata": {},
   "outputs": [],
   "source": [
    "raw_df = pd.read_csv(raw_data_fname)\n",
    "postcode_lookup = pd.read_csv(postcode_lookup_fname)"
   ]
  },
  {
   "cell_type": "code",
   "execution_count": 167,
   "metadata": {},
   "outputs": [
    {
     "name": "stdout",
     "output_type": "stream",
     "text": [
      "0 is_preview\n",
      "1 survey_id\n",
      "2 respondent_id\n",
      "3 start_time\n",
      "4 end_time\n",
      "5 Q1 Which country do you live in?\n",
      "6 Q2 What is your gender?\n",
      "7 Q3 What is the highest level of education you've attained?\n",
      "8 Q4 What region of the UK do you live in?\n",
      "9 Q5 What is your postcode? For example, if your postcode is 'SW1A 1AA', please enter 'SW1A 1' - the first part of the postcode and the first digit of the second part.\n",
      "10 Q7 How did you vote in the 2016 EU Referendum?\n",
      "11 Q8.0 Did you vote in the 2019 General Election?\n",
      "12 Q8.1 If so, how did you vote in the 2019 General Election?\n",
      "13 Q9 How did you vote in the 2017 General Election?\n",
      "14 Q10 If an election were held tomorrow, which party, if any, would you vote for?\n",
      "15 Q11 Overall, do you approve or disapprove of the Government’s performance?\n",
      "16 Q12.1 Below is a list of political parties. For each could you say on a scale of 0 to 100 how warmly you feel towards them with 0 meaning completely cold, 100 meaning completely warm and 50 meaning somewhere in the middle.... Conservatives\n",
      "17 Q12.2 Below is a list of political parties. For each could you say on a scale of 0 to 100 how warmly you feel towards them with 0 meaning completely cold, 100 meaning completely warm and 50 meaning somewhere in the middle.... Labour\n",
      "18 Q12.3 Below is a list of political parties. For each could you say on a scale of 0 to 100 how warmly you feel towards them with 0 meaning completely cold, 100 meaning completely warm and 50 meaning somewhere in the middle.... Liberal Democrats\n",
      "19 Q12.4 Below is a list of political parties. For each could you say on a scale of 0 to 100 how warmly you feel towards them with 0 meaning completely cold, 100 meaning completely warm and 50 meaning somewhere in the middle.... Brexit Party\n",
      "20 Q12.5 Below is a list of political parties. For each could you say on a scale of 0 to 100 how warmly you feel towards them with 0 meaning completely cold, 100 meaning completely warm and 50 meaning somewhere in the middle.... Greens\n",
      "21 Q12.6 Below is a list of political parties. For each could you say on a scale of 0 to 100 how warmly you feel towards them with 0 meaning completely cold, 100 meaning completely warm and 50 meaning somewhere in the middle.... Scottish National Party\n",
      "22 Q12.7 Below is a list of political parties. For each could you say on a scale of 0 to 100 how warmly you feel towards them with 0 meaning completely cold, 100 meaning completely warm and 50 meaning somewhere in the middle.... Plaid Cymru\n",
      "23 Q13.1 Below is a list of political figures. For each could you say on a scale of 0 to 100 how warmly you feel towards them with 0 meaning completely cold, 100 meaning completely warm and 50 meaning somewhere in the middle.... Boris Johnson, the Prime Minister\n",
      "24 Q13.2 Below is a list of political figures. For each could you say on a scale of 0 to 100 how warmly you feel towards them with 0 meaning completely cold, 100 meaning completely warm and 50 meaning somewhere in the middle.... Rishi Sunak, the Chancellor\n",
      "25 Q13.3 Below is a list of political figures. For each could you say on a scale of 0 to 100 how warmly you feel towards them with 0 meaning completely cold, 100 meaning completely warm and 50 meaning somewhere in the middle.... Matt Hancock, the Health Secretary\n",
      "26 Q13.4 Below is a list of political figures. For each could you say on a scale of 0 to 100 how warmly you feel towards them with 0 meaning completely cold, 100 meaning completely warm and 50 meaning somewhere in the middle.... Priti Patel, the Home Secretary\n",
      "27 Q13.5 Below is a list of political figures. For each could you say on a scale of 0 to 100 how warmly you feel towards them with 0 meaning completely cold, 100 meaning completely warm and 50 meaning somewhere in the middle.... Dominic Raab, the Foreign Secretary\n",
      "28 Q13.6 Below is a list of political figures. For each could you say on a scale of 0 to 100 how warmly you feel towards them with 0 meaning completely cold, 100 meaning completely warm and 50 meaning somewhere in the middle.... Sir Keir Starmer, the Leader of the Opposition\n",
      "29 Q13.7 Below is a list of political figures. For each could you say on a scale of 0 to 100 how warmly you feel towards them with 0 meaning completely cold, 100 meaning completely warm and 50 meaning somewhere in the middle.... Nicola Sturgeon, the First Minister of Scotland\n",
      "30 Q13.8 Below is a list of political figures. For each could you say on a scale of 0 to 100 how warmly you feel towards them with 0 meaning completely cold, 100 meaning completely warm and 50 meaning somewhere in the middle.... Nigel Farage, Leader of the Brexit Party\n",
      "31 Q13.9 Below is a list of political figures. For each could you say on a scale of 0 to 100 how warmly you feel towards them with 0 meaning completely cold, 100 meaning completely warm and 50 meaning somewhere in the middle.... Sir Ed Davey, Acting Leader of the Liberal Democrats\n",
      "32 Q14 Do you know the name of your current Member of Parliament?\n",
      "33 Q15 Do you approve of the performance of your local MP?\n",
      "34 Q16 Have you received any communication from your local MP in the past month? (eg. leaflets, adverts, door-knocking)\n",
      "35 Q17 Please rank the following issues in order of importance for the *country* - with 1 as the most important and 8 as the least important.... Britain leaving the EU\n",
      "36 Q17 Please rank the following issues in order of importance for the *country* - with 1 as the most important and 8 as the least important.... Education and schools\n",
      "37 Q17 Please rank the following issues in order of importance for the *country* - with 1 as the most important and 8 as the least important.... Helping the country recover from Covid-19\n",
      "38 Q17 Please rank the following issues in order of importance for the *country* - with 1 as the most important and 8 as the least important.... Jobs and the economy\n",
      "39 Q17 Please rank the following issues in order of importance for the *country* - with 1 as the most important and 8 as the least important.... Protecting the environment / climate change\n",
      "40 Q17 Please rank the following issues in order of importance for the *country* - with 1 as the most important and 8 as the least important.... Ranked 1st\n",
      "41 Q17 Please rank the following issues in order of importance for the *country* - with 1 as the most important and 8 as the least important.... Ranked 2nd\n",
      "42 Q17 Please rank the following issues in order of importance for the *country* - with 1 as the most important and 8 as the least important.... Ranked 3rd\n",
      "43 Q17 Please rank the following issues in order of importance for the *country* - with 1 as the most important and 8 as the least important.... Ranked 4th\n",
      "44 Q17 Please rank the following issues in order of importance for the *country* - with 1 as the most important and 8 as the least important.... Ranked 5th\n",
      "45 Q17 Please rank the following issues in order of importance for the *country* - with 1 as the most important and 8 as the least important.... Ranked 6th\n",
      "46 Q17 Please rank the following issues in order of importance for the *country* - with 1 as the most important and 8 as the least important.... Ranked 7th\n",
      "47 Q17 Please rank the following issues in order of importance for the *country* - with 1 as the most important and 8 as the least important.... Ranked 8th\n",
      "48 Q17 Please rank the following issues in order of importance for the *country* - with 1 as the most important and 8 as the least important.... The NHS and social care\n",
      "49 Q17 Please rank the following issues in order of importance for the *country* - with 1 as the most important and 8 as the least important.... The level of immigration\n",
      "50 Q17 Please rank the following issues in order of importance for the *country* - with 1 as the most important and 8 as the least important.... Transport and infrastructure (eg. roads, trains, bus routes)\n",
      "51 Q18 Please rank the following issues in order of importance for *your local area* - with 1 as the most important and 8 as the least important.... Britain leaving the EU\n",
      "52 Q18 Please rank the following issues in order of importance for *your local area* - with 1 as the most important and 8 as the least important.... Education and schools\n",
      "53 Q18 Please rank the following issues in order of importance for *your local area* - with 1 as the most important and 8 as the least important.... Helping your area recover from Covid-19\n",
      "54 Q18 Please rank the following issues in order of importance for *your local area* - with 1 as the most important and 8 as the least important.... Jobs and the economy\n",
      "55 Q18 Please rank the following issues in order of importance for *your local area* - with 1 as the most important and 8 as the least important.... Protecting the environment / climate change\n",
      "56 Q18 Please rank the following issues in order of importance for *your local area* - with 1 as the most important and 8 as the least important.... Ranked 1st\n",
      "57 Q18 Please rank the following issues in order of importance for *your local area* - with 1 as the most important and 8 as the least important.... Ranked 2nd\n",
      "58 Q18 Please rank the following issues in order of importance for *your local area* - with 1 as the most important and 8 as the least important.... Ranked 3rd\n",
      "59 Q18 Please rank the following issues in order of importance for *your local area* - with 1 as the most important and 8 as the least important.... Ranked 4th\n",
      "60 Q18 Please rank the following issues in order of importance for *your local area* - with 1 as the most important and 8 as the least important.... Ranked 5th\n",
      "61 Q18 Please rank the following issues in order of importance for *your local area* - with 1 as the most important and 8 as the least important.... Ranked 6th\n",
      "62 Q18 Please rank the following issues in order of importance for *your local area* - with 1 as the most important and 8 as the least important.... Ranked 7th\n",
      "63 Q18 Please rank the following issues in order of importance for *your local area* - with 1 as the most important and 8 as the least important.... Ranked 8th\n",
      "64 Q18 Please rank the following issues in order of importance for *your local area* - with 1 as the most important and 8 as the least important.... The NHS and social care\n",
      "65 Q18 Please rank the following issues in order of importance for *your local area* - with 1 as the most important and 8 as the least important.... The level of immigration\n",
      "66 Q18 Please rank the following issues in order of importance for *your local area* - with 1 as the most important and 8 as the least important.... Transport and infrastructure (eg. roads, trains, bus routes)\n",
      "67 Q19\n",
      "68 Q20 In which region of the UK do you reside?\n",
      "69 Q21 What is your year of birth?\n",
      "70 Q22\n",
      "71 Q23\n",
      "72 Respondant Age\n"
     ]
    }
   ],
   "source": [
    "for i,col in enumerate(raw_df.columns):\n",
    "    print(i,col)"
   ]
  },
  {
   "cell_type": "markdown",
   "metadata": {},
   "source": [
    "## Converting years to age"
   ]
  },
  {
   "cell_type": "code",
   "execution_count": 157,
   "metadata": {},
   "outputs": [],
   "source": [
    "years = pd.to_numeric(raw_df['Q21 What is your year of birth?'], errors = 'coerce')"
   ]
  },
  {
   "cell_type": "code",
   "execution_count": null,
   "metadata": {},
   "outputs": [],
   "source": [
    "from datetime import date \n",
    "  \n",
    "def calculateAge(year):\n",
    "    try:\n",
    "        today = date.today() \n",
    "        age = today.year -  year\n",
    "    except ValueError:\n",
    "        pass\n",
    "    return age \n",
    "\n",
    "def convert_to_age:\n",
    "    "
   ]
  },
  {
   "cell_type": "code",
   "execution_count": 158,
   "metadata": {},
   "outputs": [],
   "source": [
    "raw_df['Respondant Age'] = calculateAge(years)"
   ]
  },
  {
   "cell_type": "markdown",
   "metadata": {},
   "source": [
    "## Mapping postcodes to westminster constituencies "
   ]
  },
  {
   "cell_type": "code",
   "execution_count": 175,
   "metadata": {},
   "outputs": [],
   "source": [
    "t = pd.merge(raw_df, postcode_lookup, 'left', left_on=raw_df.columns[9], right_on= 'postcode')"
   ]
  },
  {
   "cell_type": "code",
   "execution_count": 180,
   "metadata": {},
   "outputs": [],
   "source": [
    "raw_df['westminster constituency'] =  t.iloc[:,-1]"
   ]
  },
  {
   "cell_type": "markdown",
   "metadata": {},
   "source": [
    "## Removing useless columns"
   ]
  },
  {
   "cell_type": "code",
   "execution_count": 182,
   "metadata": {},
   "outputs": [
    {
     "data": {
      "text/plain": [
       "74"
      ]
     },
     "execution_count": 182,
     "metadata": {},
     "output_type": "execute_result"
    }
   ],
   "source": [
    "len(raw_df.columns)"
   ]
  },
  {
   "cell_type": "code",
   "execution_count": 196,
   "metadata": {},
   "outputs": [
    {
     "data": {
      "text/plain": [
       "71"
      ]
     },
     "execution_count": 196,
     "metadata": {},
     "output_type": "execute_result"
    }
   ],
   "source": [
    "no_useless_columns = raw_df[raw_df.columns[raw_df.count() > 10]]\n",
    "len(no_useless_columns.columns)"
   ]
  },
  {
   "cell_type": "markdown",
   "metadata": {},
   "source": [
    "## Deleting duplicate repondants"
   ]
  },
  {
   "cell_type": "code",
   "execution_count": 225,
   "metadata": {},
   "outputs": [
    {
     "data": {
      "text/plain": [
       "894"
      ]
     },
     "execution_count": 225,
     "metadata": {},
     "output_type": "execute_result"
    }
   ],
   "source": [
    "len(raw_df)"
   ]
  },
  {
   "cell_type": "code",
   "execution_count": 226,
   "metadata": {},
   "outputs": [
    {
     "data": {
      "text/plain": [
       "815"
      ]
     },
     "execution_count": 226,
     "metadata": {},
     "output_type": "execute_result"
    }
   ],
   "source": [
    "no_duplicates = raw_df.drop_duplicates(subset='respondent_id')\n",
    "len(no_duplicates)"
   ]
  },
  {
   "cell_type": "code",
   "execution_count": null,
   "metadata": {},
   "outputs": [],
   "source": []
  },
  {
   "cell_type": "code",
   "execution_count": null,
   "metadata": {},
   "outputs": [],
   "source": []
  },
  {
   "cell_type": "code",
   "execution_count": 202,
   "metadata": {},
   "outputs": [
    {
     "name": "stdout",
     "output_type": "stream",
     "text": [
      "respondent_id\n",
      "1066041204    2\n",
      "1346571980    2\n",
      "1692876912    2\n",
      "1926771000    2\n",
      "2025867713    2\n",
      "2066257130    2\n",
      "2269341929    2\n",
      "2545471689    2\n",
      "3126749573    2\n",
      "3713348745    2\n",
      "3846008545    2\n",
      "4383795974    2\n",
      "4848549806    2\n",
      "6158925231    2\n",
      "6620898156    2\n",
      "6967692015    2\n",
      "7331005066    2\n",
      "7419903196    2\n",
      "8253752319    2\n",
      "8661542077    2\n",
      "8702071915    2\n",
      "8757564254    2\n",
      "9295985745    2\n",
      "936200890     2\n",
      "dtype: int64\n"
     ]
    }
   ],
   "source": [
    "d = raw_df.pivot_table(index=['respondent_id'], aggfunc='size')\n",
    "print (d[d>1])"
   ]
  },
  {
   "cell_type": "code",
   "execution_count": null,
   "metadata": {},
   "outputs": [],
   "source": []
  },
  {
   "cell_type": "code",
   "execution_count": null,
   "metadata": {},
   "outputs": [],
   "source": []
  },
  {
   "cell_type": "code",
   "execution_count": 222,
   "metadata": {},
   "outputs": [
    {
     "data": {
      "text/html": [
       "<div>\n",
       "<style scoped>\n",
       "    .dataframe tbody tr th:only-of-type {\n",
       "        vertical-align: middle;\n",
       "    }\n",
       "\n",
       "    .dataframe tbody tr th {\n",
       "        vertical-align: top;\n",
       "    }\n",
       "\n",
       "    .dataframe thead th {\n",
       "        text-align: right;\n",
       "    }\n",
       "</style>\n",
       "<table border=\"1\" class=\"dataframe\">\n",
       "  <thead>\n",
       "    <tr style=\"text-align: right;\">\n",
       "      <th></th>\n",
       "      <th>is_preview</th>\n",
       "      <th>survey_id</th>\n",
       "      <th>respondent_id</th>\n",
       "      <th>start_time</th>\n",
       "      <th>end_time</th>\n",
       "      <th>Q1 Which country do you live in?</th>\n",
       "      <th>Q2 What is your gender?</th>\n",
       "      <th>Q3 What is the highest level of education you've attained?</th>\n",
       "      <th>Q4 What region of the UK do you live in?</th>\n",
       "      <th>Q5 What is your postcode? For example, if your postcode is 'SW1A 1AA', please enter 'SW1A 1' - the first part of the postcode and the first digit of the second part.</th>\n",
       "      <th>...</th>\n",
       "      <th>Q18 Please rank the following issues in order of importance for *your local area* - with 1 as the most important and 8 as the least important.... Ranked 6th</th>\n",
       "      <th>Q18 Please rank the following issues in order of importance for *your local area* - with 1 as the most important and 8 as the least important.... Ranked 7th</th>\n",
       "      <th>Q18 Please rank the following issues in order of importance for *your local area* - with 1 as the most important and 8 as the least important.... Ranked 8th</th>\n",
       "      <th>Q18 Please rank the following issues in order of importance for *your local area* - with 1 as the most important and 8 as the least important.... The NHS and social care</th>\n",
       "      <th>Q18 Please rank the following issues in order of importance for *your local area* - with 1 as the most important and 8 as the least important.... The level of immigration</th>\n",
       "      <th>Q18 Please rank the following issues in order of importance for *your local area* - with 1 as the most important and 8 as the least important.... Transport and infrastructure (eg. roads, trains, bus routes)</th>\n",
       "      <th>Q20 In which region of the UK do you reside?</th>\n",
       "      <th>Q21 What is your year of birth?</th>\n",
       "      <th>Respondant Age</th>\n",
       "      <th>westminster constituency</th>\n",
       "    </tr>\n",
       "  </thead>\n",
       "  <tbody>\n",
       "    <tr>\n",
       "      <th>613</th>\n",
       "      <td>NaN</td>\n",
       "      <td>7858f084-89fc-4d61-9659-5bec93ef7706</td>\n",
       "      <td>4848549806</td>\n",
       "      <td>2020-07-30 01:46:35</td>\n",
       "      <td>2020-07-30 01:54:59</td>\n",
       "      <td>England</td>\n",
       "      <td>Female</td>\n",
       "      <td>Other technical, professional or higher qualif...</td>\n",
       "      <td>South West</td>\n",
       "      <td>EX22 7</td>\n",
       "      <td>...</td>\n",
       "      <td>Britain leaving the EU</td>\n",
       "      <td>The level of immigration</td>\n",
       "      <td>Protecting the environment / climate change</td>\n",
       "      <td>Ranked 2nd</td>\n",
       "      <td>Ranked 7th</td>\n",
       "      <td>Ranked 5th</td>\n",
       "      <td>South West</td>\n",
       "      <td>1969</td>\n",
       "      <td>51.0</td>\n",
       "      <td>E14001000</td>\n",
       "    </tr>\n",
       "    <tr>\n",
       "      <th>846</th>\n",
       "      <td>False</td>\n",
       "      <td>7858f084-89fc-4d61-9659-5bec93ef7706</td>\n",
       "      <td>4848549806</td>\n",
       "      <td>2020-07-30 22:38:46</td>\n",
       "      <td>2020-07-30 22:47:17</td>\n",
       "      <td>England</td>\n",
       "      <td>Female</td>\n",
       "      <td>Other technical, professional or higher qualif...</td>\n",
       "      <td>South West</td>\n",
       "      <td>EX22 7</td>\n",
       "      <td>...</td>\n",
       "      <td>Britain leaving the EU</td>\n",
       "      <td>The level of immigration</td>\n",
       "      <td>Protecting the environment / climate change</td>\n",
       "      <td>Ranked 2nd</td>\n",
       "      <td>Ranked 7th</td>\n",
       "      <td>Ranked 5th</td>\n",
       "      <td>South West</td>\n",
       "      <td>1971</td>\n",
       "      <td>49.0</td>\n",
       "      <td>E14001000</td>\n",
       "    </tr>\n",
       "  </tbody>\n",
       "</table>\n",
       "<p>2 rows × 71 columns</p>\n",
       "</div>"
      ],
      "text/plain": [
       "    is_preview                             survey_id respondent_id  \\\n",
       "613        NaN  7858f084-89fc-4d61-9659-5bec93ef7706    4848549806   \n",
       "846      False  7858f084-89fc-4d61-9659-5bec93ef7706    4848549806   \n",
       "\n",
       "              start_time             end_time  \\\n",
       "613  2020-07-30 01:46:35  2020-07-30 01:54:59   \n",
       "846  2020-07-30 22:38:46  2020-07-30 22:47:17   \n",
       "\n",
       "    Q1 Which country do you live in? Q2 What is your gender?  \\\n",
       "613                          England                  Female   \n",
       "846                          England                  Female   \n",
       "\n",
       "    Q3 What is the highest level of education you've attained?  \\\n",
       "613  Other technical, professional or higher qualif...           \n",
       "846  Other technical, professional or higher qualif...           \n",
       "\n",
       "    Q4 What region of the UK do you live in?  \\\n",
       "613                               South West   \n",
       "846                               South West   \n",
       "\n",
       "    Q5 What is your postcode? For example, if your postcode is 'SW1A 1AA', please enter 'SW1A 1' - the first part of the postcode and the first digit of the second part.  \\\n",
       "613                                             EX22 7                                                                                                                      \n",
       "846                                             EX22 7                                                                                                                      \n",
       "\n",
       "     ...  \\\n",
       "613  ...   \n",
       "846  ...   \n",
       "\n",
       "    Q18 Please rank the following issues in order of importance for *your local area* - with 1 as the most important and 8 as the least important.... Ranked 6th  \\\n",
       "613                             Britain leaving the EU                                                                                                             \n",
       "846                             Britain leaving the EU                                                                                                             \n",
       "\n",
       "    Q18 Please rank the following issues in order of importance for *your local area* - with 1 as the most important and 8 as the least important.... Ranked 7th  \\\n",
       "613                           The level of immigration                                                                                                             \n",
       "846                           The level of immigration                                                                                                             \n",
       "\n",
       "    Q18 Please rank the following issues in order of importance for *your local area* - with 1 as the most important and 8 as the least important.... Ranked 8th  \\\n",
       "613        Protecting the environment / climate change                                                                                                             \n",
       "846        Protecting the environment / climate change                                                                                                             \n",
       "\n",
       "    Q18 Please rank the following issues in order of importance for *your local area* - with 1 as the most important and 8 as the least important.... The NHS and social care  \\\n",
       "613                                         Ranked 2nd                                                                                                                          \n",
       "846                                         Ranked 2nd                                                                                                                          \n",
       "\n",
       "    Q18 Please rank the following issues in order of importance for *your local area* - with 1 as the most important and 8 as the least important.... The level of immigration  \\\n",
       "613                                         Ranked 7th                                                                                                                           \n",
       "846                                         Ranked 7th                                                                                                                           \n",
       "\n",
       "    Q18 Please rank the following issues in order of importance for *your local area* - with 1 as the most important and 8 as the least important.... Transport and infrastructure (eg. roads, trains, bus routes)  \\\n",
       "613                                         Ranked 5th                                                                                                                                                               \n",
       "846                                         Ranked 5th                                                                                                                                                               \n",
       "\n",
       "    Q20 In which region of the UK do you reside?  \\\n",
       "613                                   South West   \n",
       "846                                   South West   \n",
       "\n",
       "    Q21 What is your year of birth? Respondant Age westminster constituency  \n",
       "613                            1969           51.0                E14001000  \n",
       "846                            1971           49.0                E14001000  \n",
       "\n",
       "[2 rows x 71 columns]"
      ]
     },
     "execution_count": 222,
     "metadata": {},
     "output_type": "execute_result"
    }
   ],
   "source": [
    "raw_df[raw_df.respondent_id == '4848549806']"
   ]
  },
  {
   "cell_type": "code",
   "execution_count": 223,
   "metadata": {},
   "outputs": [
    {
     "data": {
      "text/plain": [
       "815"
      ]
     },
     "execution_count": 223,
     "metadata": {},
     "output_type": "execute_result"
    }
   ],
   "source": [
    "no_duplicates = raw_df.drop_duplicates(subset='respondent_id')\n",
    "len(no_duplicates)"
   ]
  },
  {
   "cell_type": "code",
   "execution_count": 224,
   "metadata": {},
   "outputs": [
    {
     "name": "stdout",
     "output_type": "stream",
     "text": [
      "Series([], dtype: int64)\n"
     ]
    }
   ],
   "source": [
    "dd = no_duplicates.pivot_table(index=['respondent_id'], aggfunc='size')\n",
    "print (dd[dd>1])"
   ]
  },
  {
   "cell_type": "code",
   "execution_count": 212,
   "metadata": {},
   "outputs": [
    {
     "data": {
      "text/html": [
       "<div>\n",
       "<style scoped>\n",
       "    .dataframe tbody tr th:only-of-type {\n",
       "        vertical-align: middle;\n",
       "    }\n",
       "\n",
       "    .dataframe tbody tr th {\n",
       "        vertical-align: top;\n",
       "    }\n",
       "\n",
       "    .dataframe thead th {\n",
       "        text-align: right;\n",
       "    }\n",
       "</style>\n",
       "<table border=\"1\" class=\"dataframe\">\n",
       "  <thead>\n",
       "    <tr style=\"text-align: right;\">\n",
       "      <th></th>\n",
       "      <th>is_preview</th>\n",
       "      <th>survey_id</th>\n",
       "      <th>respondent_id</th>\n",
       "      <th>start_time</th>\n",
       "      <th>end_time</th>\n",
       "      <th>Q1 Which country do you live in?</th>\n",
       "      <th>Q2 What is your gender?</th>\n",
       "      <th>Q3 What is the highest level of education you've attained?</th>\n",
       "      <th>Q4 What region of the UK do you live in?</th>\n",
       "      <th>Q5 What is your postcode? For example, if your postcode is 'SW1A 1AA', please enter 'SW1A 1' - the first part of the postcode and the first digit of the second part.</th>\n",
       "      <th>...</th>\n",
       "      <th>Q18 Please rank the following issues in order of importance for *your local area* - with 1 as the most important and 8 as the least important.... Ranked 6th</th>\n",
       "      <th>Q18 Please rank the following issues in order of importance for *your local area* - with 1 as the most important and 8 as the least important.... Ranked 7th</th>\n",
       "      <th>Q18 Please rank the following issues in order of importance for *your local area* - with 1 as the most important and 8 as the least important.... Ranked 8th</th>\n",
       "      <th>Q18 Please rank the following issues in order of importance for *your local area* - with 1 as the most important and 8 as the least important.... The NHS and social care</th>\n",
       "      <th>Q18 Please rank the following issues in order of importance for *your local area* - with 1 as the most important and 8 as the least important.... The level of immigration</th>\n",
       "      <th>Q18 Please rank the following issues in order of importance for *your local area* - with 1 as the most important and 8 as the least important.... Transport and infrastructure (eg. roads, trains, bus routes)</th>\n",
       "      <th>Q20 In which region of the UK do you reside?</th>\n",
       "      <th>Q21 What is your year of birth?</th>\n",
       "      <th>Respondant Age</th>\n",
       "      <th>westminster constituency</th>\n",
       "    </tr>\n",
       "  </thead>\n",
       "  <tbody>\n",
       "  </tbody>\n",
       "</table>\n",
       "<p>0 rows × 71 columns</p>\n",
       "</div>"
      ],
      "text/plain": [
       "Empty DataFrame\n",
       "Columns: [is_preview, survey_id, respondent_id, start_time, end_time, Q1 Which country do you live in?, Q2 What is your gender?, Q3 What is the highest level of education you've attained?, Q4 What region of the UK do you live in?, Q5 What is your postcode? For example, if your postcode is 'SW1A 1AA', please enter 'SW1A 1' - the first part of the postcode and the first digit of the second part., Q7 How did you vote in the 2016 EU Referendum?, Q8.0 Did you vote in the 2019 General Election?, Q8.1 If so, how did you vote in the 2019 General Election?, Q9 How did you vote in the 2017 General Election?, Q10 If an election were held tomorrow, which party, if any, would you vote for?, Q11 Overall, do you approve or disapprove of the Government’s performance?, Q12.1 Below is a list of political parties. For each could you say on a scale of 0 to 100 how warmly you feel towards them with 0 meaning completely cold, 100 meaning completely warm and 50 meaning somewhere in the middle.... Conservatives, Q12.2 Below is a list of political parties. For each could you say on a scale of 0 to 100 how warmly you feel towards them with 0 meaning completely cold, 100 meaning completely warm and 50 meaning somewhere in the middle.... Labour, Q12.3 Below is a list of political parties. For each could you say on a scale of 0 to 100 how warmly you feel towards them with 0 meaning completely cold, 100 meaning completely warm and 50 meaning somewhere in the middle.... Liberal Democrats, Q12.4 Below is a list of political parties. For each could you say on a scale of 0 to 100 how warmly you feel towards them with 0 meaning completely cold, 100 meaning completely warm and 50 meaning somewhere in the middle.... Brexit Party, Q12.5 Below is a list of political parties. For each could you say on a scale of 0 to 100 how warmly you feel towards them with 0 meaning completely cold, 100 meaning completely warm and 50 meaning somewhere in the middle.... Greens, Q12.6 Below is a list of political parties. For each could you say on a scale of 0 to 100 how warmly you feel towards them with 0 meaning completely cold, 100 meaning completely warm and 50 meaning somewhere in the middle.... Scottish National Party, Q12.7 Below is a list of political parties. For each could you say on a scale of 0 to 100 how warmly you feel towards them with 0 meaning completely cold, 100 meaning completely warm and 50 meaning somewhere in the middle.... Plaid Cymru, Q13.1 Below is a list of political figures. For each could you say on a scale of 0 to 100 how warmly you feel towards them with 0 meaning completely cold, 100 meaning completely warm and 50 meaning somewhere in the middle.... Boris Johnson, the Prime Minister, Q13.2 Below is a list of political figures. For each could you say on a scale of 0 to 100 how warmly you feel towards them with 0 meaning completely cold, 100 meaning completely warm and 50 meaning somewhere in the middle.... Rishi Sunak, the Chancellor, Q13.3 Below is a list of political figures. For each could you say on a scale of 0 to 100 how warmly you feel towards them with 0 meaning completely cold, 100 meaning completely warm and 50 meaning somewhere in the middle.... Matt Hancock, the Health Secretary, Q13.4 Below is a list of political figures. For each could you say on a scale of 0 to 100 how warmly you feel towards them with 0 meaning completely cold, 100 meaning completely warm and 50 meaning somewhere in the middle.... Priti Patel, the Home Secretary, Q13.5 Below is a list of political figures. For each could you say on a scale of 0 to 100 how warmly you feel towards them with 0 meaning completely cold, 100 meaning completely warm and 50 meaning somewhere in the middle.... Dominic Raab, the Foreign Secretary, Q13.6 Below is a list of political figures. For each could you say on a scale of 0 to 100 how warmly you feel towards them with 0 meaning completely cold, 100 meaning completely warm and 50 meaning somewhere in the middle.... Sir Keir Starmer, the Leader of the Opposition, Q13.7 Below is a list of political figures. For each could you say on a scale of 0 to 100 how warmly you feel towards them with 0 meaning completely cold, 100 meaning completely warm and 50 meaning somewhere in the middle.... Nicola Sturgeon, the First Minister of Scotland, Q13.8 Below is a list of political figures. For each could you say on a scale of 0 to 100 how warmly you feel towards them with 0 meaning completely cold, 100 meaning completely warm and 50 meaning somewhere in the middle.... Nigel Farage, Leader of the Brexit Party, Q13.9 Below is a list of political figures. For each could you say on a scale of 0 to 100 how warmly you feel towards them with 0 meaning completely cold, 100 meaning completely warm and 50 meaning somewhere in the middle.... Sir Ed Davey, Acting Leader of the Liberal Democrats, Q14 Do you know the name of your current Member of Parliament?, Q15 Do you approve of the performance of your local MP?, Q16 Have you received any communication from your local MP in the past month? (eg. leaflets, adverts, door-knocking), Q17 Please rank the following issues in order of importance for the *country* - with 1 as the most important and 8 as the least important.... Britain leaving the EU, Q17 Please rank the following issues in order of importance for the *country* - with 1 as the most important and 8 as the least important.... Education and schools, Q17 Please rank the following issues in order of importance for the *country* - with 1 as the most important and 8 as the least important.... Helping the country recover from Covid-19, Q17 Please rank the following issues in order of importance for the *country* - with 1 as the most important and 8 as the least important.... Jobs and the economy, Q17 Please rank the following issues in order of importance for the *country* - with 1 as the most important and 8 as the least important.... Protecting the environment / climate change, Q17 Please rank the following issues in order of importance for the *country* - with 1 as the most important and 8 as the least important.... Ranked 1st, Q17 Please rank the following issues in order of importance for the *country* - with 1 as the most important and 8 as the least important.... Ranked 2nd, Q17 Please rank the following issues in order of importance for the *country* - with 1 as the most important and 8 as the least important.... Ranked 3rd, Q17 Please rank the following issues in order of importance for the *country* - with 1 as the most important and 8 as the least important.... Ranked 4th, Q17 Please rank the following issues in order of importance for the *country* - with 1 as the most important and 8 as the least important.... Ranked 5th, Q17 Please rank the following issues in order of importance for the *country* - with 1 as the most important and 8 as the least important.... Ranked 6th, Q17 Please rank the following issues in order of importance for the *country* - with 1 as the most important and 8 as the least important.... Ranked 7th, Q17 Please rank the following issues in order of importance for the *country* - with 1 as the most important and 8 as the least important.... Ranked 8th, Q17 Please rank the following issues in order of importance for the *country* - with 1 as the most important and 8 as the least important.... The NHS and social care, Q17 Please rank the following issues in order of importance for the *country* - with 1 as the most important and 8 as the least important.... The level of immigration, Q17 Please rank the following issues in order of importance for the *country* - with 1 as the most important and 8 as the least important.... Transport and infrastructure (eg. roads, trains, bus routes), Q18 Please rank the following issues in order of importance for *your local area* - with 1 as the most important and 8 as the least important.... Britain leaving the EU, Q18 Please rank the following issues in order of importance for *your local area* - with 1 as the most important and 8 as the least important.... Education and schools, Q18 Please rank the following issues in order of importance for *your local area* - with 1 as the most important and 8 as the least important.... Helping your area recover from Covid-19, Q18 Please rank the following issues in order of importance for *your local area* - with 1 as the most important and 8 as the least important.... Jobs and the economy, Q18 Please rank the following issues in order of importance for *your local area* - with 1 as the most important and 8 as the least important.... Protecting the environment / climate change, Q18 Please rank the following issues in order of importance for *your local area* - with 1 as the most important and 8 as the least important.... Ranked 1st, Q18 Please rank the following issues in order of importance for *your local area* - with 1 as the most important and 8 as the least important.... Ranked 2nd, Q18 Please rank the following issues in order of importance for *your local area* - with 1 as the most important and 8 as the least important.... Ranked 3rd, Q18 Please rank the following issues in order of importance for *your local area* - with 1 as the most important and 8 as the least important.... Ranked 4th, Q18 Please rank the following issues in order of importance for *your local area* - with 1 as the most important and 8 as the least important.... Ranked 5th, Q18 Please rank the following issues in order of importance for *your local area* - with 1 as the most important and 8 as the least important.... Ranked 6th, Q18 Please rank the following issues in order of importance for *your local area* - with 1 as the most important and 8 as the least important.... Ranked 7th, Q18 Please rank the following issues in order of importance for *your local area* - with 1 as the most important and 8 as the least important.... Ranked 8th, Q18 Please rank the following issues in order of importance for *your local area* - with 1 as the most important and 8 as the least important.... The NHS and social care, Q18 Please rank the following issues in order of importance for *your local area* - with 1 as the most important and 8 as the least important.... The level of immigration, Q18 Please rank the following issues in order of importance for *your local area* - with 1 as the most important and 8 as the least important.... Transport and infrastructure (eg. roads, trains, bus routes), Q20 In which region of the UK do you reside?, Q21 What is your year of birth?, Respondant Age, westminster constituency]\n",
       "Index: []\n",
       "\n",
       "[0 rows x 71 columns]"
      ]
     },
     "execution_count": 212,
     "metadata": {},
     "output_type": "execute_result"
    }
   ],
   "source": [
    "raw_df[raw_df.duplicated() == True]"
   ]
  },
  {
   "cell_type": "code",
   "execution_count": 218,
   "metadata": {},
   "outputs": [
    {
     "data": {
      "text/plain": [
       "array([False, '7858f084-89fc-4d61-9659-5bec93ef7706', '8702071915',\n",
       "       '2020-08-01 15:54:02', '2020-08-01 16:04:00', 'England', 'Male',\n",
       "       'University or CNAA higher degree (e.g. M.Sc, Ph.D) ',\n",
       "       'Yorkshire and the Humber', nan, nan, 'Yes, I voted', 'Labour',\n",
       "       'Labour', 'Labour', 'Strongly disapprove', '0-9', '81-90', '10-19',\n",
       "       '0-9', '10-19', '20-29', '20-29', '0-9', '10-19', '0-9', '0-9',\n",
       "       '0-9', '71-80', '71-80', '0-9', '50', 'No', 'Yes', 'No',\n",
       "       'Ranked 3rd', 'Ranked 5th', 'Ranked 1st', 'Ranked 4th',\n",
       "       'Ranked 8th', 'Helping the country recover from Covid-19',\n",
       "       'The NHS and social care', 'Britain leaving the EU',\n",
       "       'Jobs and the economy', 'Education and schools',\n",
       "       'The level of immigration',\n",
       "       'Transport and infrastructure (eg. roads, trains, bus routes)',\n",
       "       'Protecting the environment / climate change', 'Ranked 2nd',\n",
       "       'Ranked 6th', 'Ranked 7th', 'Ranked 4th', 'Ranked 5th',\n",
       "       'Ranked 1st', 'Ranked 3rd', 'Ranked 7th',\n",
       "       'Helping your area recover from Covid-19',\n",
       "       'The NHS and social care', 'Jobs and the economy',\n",
       "       'Britain leaving the EU', 'Education and schools',\n",
       "       'Transport and infrastructure (eg. roads, trains, bus routes)',\n",
       "       'Protecting the environment / climate change',\n",
       "       'The level of immigration', 'Ranked 2nd', 'Ranked 8th',\n",
       "       'Ranked 6th', 'Yorkshire and the Humber', '1994', 26.0, nan],\n",
       "      dtype=object)"
      ]
     },
     "execution_count": 218,
     "metadata": {},
     "output_type": "execute_result"
    }
   ],
   "source": [
    "raw_df.iloc[424].values"
   ]
  },
  {
   "cell_type": "code",
   "execution_count": 217,
   "metadata": {},
   "outputs": [
    {
     "data": {
      "text/plain": [
       "array([False, '7858f084-89fc-4d61-9659-5bec93ef7706', '8702071915',\n",
       "       '2020-08-02 21:26:57', '2020-08-02 21:36:38', 'England', 'Male',\n",
       "       'University or CNAA higher degree (e.g. M.Sc, Ph.D) ',\n",
       "       'Yorkshire and the Humber', nan, 'I voted to Remain',\n",
       "       'Yes, I voted', 'Labour', 'Labour', 'Labour',\n",
       "       'Strongly disapprove', '0-9', '81-90', '10-19', '0-9', '10-19',\n",
       "       '20-29', '20-29', '0-9', '10-19', '0-9', '0-9', '0-9', '71-80',\n",
       "       '71-80', '0-9', nan, 'No', 'Yes', 'No', 'Ranked 3rd', 'Ranked 5th',\n",
       "       'Ranked 1st', 'Ranked 4th', 'Ranked 8th',\n",
       "       'Helping the country recover from Covid-19', nan,\n",
       "       'Britain leaving the EU', 'Jobs and the economy',\n",
       "       'Education and schools', 'The level of immigration',\n",
       "       'Transport and infrastructure (eg. roads, trains, bus routes)',\n",
       "       'Protecting the environment / climate change', 'Ranked 2nd',\n",
       "       'Ranked 6th', 'Ranked 7th', 'Ranked 4th', 'Ranked 5th',\n",
       "       'Ranked 1st', 'Ranked 3rd', 'Ranked 7th',\n",
       "       'Helping your area recover from Covid-19',\n",
       "       'The NHS and social care', 'Jobs and the economy',\n",
       "       'Britain leaving the EU', 'Education and schools',\n",
       "       'Transport and infrastructure (eg. roads, trains, bus routes)',\n",
       "       'Protecting the environment / climate change',\n",
       "       'The level of immigration', 'Ranked 2nd', 'Ranked 8th',\n",
       "       'Ranked 6th', 'Yorkshire and the Humber', '1997', 23.0, nan],\n",
       "      dtype=object)"
      ]
     },
     "execution_count": 217,
     "metadata": {},
     "output_type": "execute_result"
    }
   ],
   "source": [
    "raw_df.iloc[851].values"
   ]
  },
  {
   "cell_type": "code",
   "execution_count": 221,
   "metadata": {},
   "outputs": [
    {
     "data": {
      "text/plain": [
       "815"
      ]
     },
     "execution_count": 221,
     "metadata": {},
     "output_type": "execute_result"
    }
   ],
   "source": [
    "len(raw_df.respondent_id.unique())"
   ]
  },
  {
   "cell_type": "code",
   "execution_count": null,
   "metadata": {},
   "outputs": [],
   "source": []
  },
  {
   "cell_type": "code",
   "execution_count": null,
   "metadata": {},
   "outputs": [],
   "source": []
  },
  {
   "cell_type": "code",
   "execution_count": null,
   "metadata": {},
   "outputs": [],
   "source": []
  },
  {
   "cell_type": "code",
   "execution_count": null,
   "metadata": {},
   "outputs": [],
   "source": []
  },
  {
   "cell_type": "code",
   "execution_count": null,
   "metadata": {},
   "outputs": [],
   "source": []
  },
  {
   "cell_type": "code",
   "execution_count": null,
   "metadata": {},
   "outputs": [],
   "source": []
  },
  {
   "cell_type": "code",
   "execution_count": 124,
   "metadata": {},
   "outputs": [
    {
     "data": {
      "text/plain": [
       "894"
      ]
     },
     "execution_count": 124,
     "metadata": {},
     "output_type": "execute_result"
    }
   ],
   "source": [
    "len(raw_df)"
   ]
  },
  {
   "cell_type": "code",
   "execution_count": 133,
   "metadata": {},
   "outputs": [
    {
     "data": {
      "text/plain": [
       "array(['Conservative', \"Don't know\", \"Didn't vote\", 'Liberal Democrat',\n",
       "       'Labour', nan, 'UK Independence Party (UKIP)', 'Green', '-9999',\n",
       "       'np.nan', 'Other'], dtype=object)"
      ]
     },
     "execution_count": 133,
     "metadata": {},
     "output_type": "execute_result"
    }
   ],
   "source": [
    "raw_df['Q9 How did you vote in the 2017 General Election?'].unique()"
   ]
  },
  {
   "cell_type": "markdown",
   "metadata": {},
   "source": [
    "nan = np.nan = -999 = 'Prefer Not To Say'"
   ]
  },
  {
   "cell_type": "code",
   "execution_count": null,
   "metadata": {},
   "outputs": [],
   "source": [
    "valeus = ['nan', 'np.nan', '-999']\n",
    "\n",
    "def convert_nulls:\n",
    "    for val in values\n",
    "    if df.value = val\n",
    "    df.value = 'prefer not to say'"
   ]
  },
  {
   "cell_type": "code",
   "execution_count": 138,
   "metadata": {},
   "outputs": [],
   "source": [
    "df = raw_df.merge(postcode_lookup, left_on = \"Q5 What is your postcode? For example, if your postcode is 'SW1A 1AA', please enter 'SW1A 1' - the first part of the postcode and the first digit of the second part.\",\n",
    "                  right_on='postcode')"
   ]
  },
  {
   "cell_type": "code",
   "execution_count": 139,
   "metadata": {},
   "outputs": [
    {
     "data": {
      "text/plain": [
       "Index(['is_preview', 'survey_id', 'respondent_id', 'start_time', 'end_time',\n",
       "       'Q1 Which country do you live in?', 'Q2 What is your gender?',\n",
       "       'Q3 What is the highest level of education you've attained?',\n",
       "       'Q4 What region of the UK do you live in?',\n",
       "       'Q5 What is your postcode? For example, if your postcode is 'SW1A 1AA', please enter 'SW1A 1' - the first part of the postcode and the first digit of the second part.',\n",
       "       'Q7 How did you vote in the 2016 EU Referendum?',\n",
       "       'Q8.0 Did you vote in the 2019 General Election?',\n",
       "       'Q8.1 If so, how did you vote in the 2019 General Election?',\n",
       "       'Q9 How did you vote in the 2017 General Election?',\n",
       "       'Q10 If an election were held tomorrow, which party, if any, would you vote for?',\n",
       "       'Q11 Overall, do you approve or disapprove of the Government’s performance?',\n",
       "       'Q12.1 Below is a list of political parties. For each could you say on a scale of 0 to 100 how warmly you feel towards them with 0 meaning completely cold, 100 meaning completely warm and 50 meaning somewhere in the middle.... Conservatives',\n",
       "       'Q12.2 Below is a list of political parties. For each could you say on a scale of 0 to 100 how warmly you feel towards them with 0 meaning completely cold, 100 meaning completely warm and 50 meaning somewhere in the middle.... Labour',\n",
       "       'Q12.3 Below is a list of political parties. For each could you say on a scale of 0 to 100 how warmly you feel towards them with 0 meaning completely cold, 100 meaning completely warm and 50 meaning somewhere in the middle.... Liberal Democrats',\n",
       "       'Q12.4 Below is a list of political parties. For each could you say on a scale of 0 to 100 how warmly you feel towards them with 0 meaning completely cold, 100 meaning completely warm and 50 meaning somewhere in the middle.... Brexit Party',\n",
       "       'Q12.5 Below is a list of political parties. For each could you say on a scale of 0 to 100 how warmly you feel towards them with 0 meaning completely cold, 100 meaning completely warm and 50 meaning somewhere in the middle.... Greens',\n",
       "       'Q12.6 Below is a list of political parties. For each could you say on a scale of 0 to 100 how warmly you feel towards them with 0 meaning completely cold, 100 meaning completely warm and 50 meaning somewhere in the middle.... Scottish National Party',\n",
       "       'Q12.7 Below is a list of political parties. For each could you say on a scale of 0 to 100 how warmly you feel towards them with 0 meaning completely cold, 100 meaning completely warm and 50 meaning somewhere in the middle.... Plaid Cymru',\n",
       "       'Q13.1 Below is a list of political figures. For each could you say on a scale of 0 to 100 how warmly you feel towards them with 0 meaning completely cold, 100 meaning completely warm and 50 meaning somewhere in the middle.... Boris Johnson, the Prime Minister',\n",
       "       'Q13.2 Below is a list of political figures. For each could you say on a scale of 0 to 100 how warmly you feel towards them with 0 meaning completely cold, 100 meaning completely warm and 50 meaning somewhere in the middle.... Rishi Sunak, the Chancellor',\n",
       "       'Q13.3 Below is a list of political figures. For each could you say on a scale of 0 to 100 how warmly you feel towards them with 0 meaning completely cold, 100 meaning completely warm and 50 meaning somewhere in the middle.... Matt Hancock, the Health Secretary',\n",
       "       'Q13.4 Below is a list of political figures. For each could you say on a scale of 0 to 100 how warmly you feel towards them with 0 meaning completely cold, 100 meaning completely warm and 50 meaning somewhere in the middle.... Priti Patel, the Home Secretary',\n",
       "       'Q13.5 Below is a list of political figures. For each could you say on a scale of 0 to 100 how warmly you feel towards them with 0 meaning completely cold, 100 meaning completely warm and 50 meaning somewhere in the middle.... Dominic Raab, the Foreign Secretary',\n",
       "       'Q13.6 Below is a list of political figures. For each could you say on a scale of 0 to 100 how warmly you feel towards them with 0 meaning completely cold, 100 meaning completely warm and 50 meaning somewhere in the middle.... Sir Keir Starmer, the Leader of the Opposition',\n",
       "       'Q13.7 Below is a list of political figures. For each could you say on a scale of 0 to 100 how warmly you feel towards them with 0 meaning completely cold, 100 meaning completely warm and 50 meaning somewhere in the middle.... Nicola Sturgeon, the First Minister of Scotland',\n",
       "       'Q13.8 Below is a list of political figures. For each could you say on a scale of 0 to 100 how warmly you feel towards them with 0 meaning completely cold, 100 meaning completely warm and 50 meaning somewhere in the middle.... Nigel Farage, Leader of the Brexit Party',\n",
       "       'Q13.9 Below is a list of political figures. For each could you say on a scale of 0 to 100 how warmly you feel towards them with 0 meaning completely cold, 100 meaning completely warm and 50 meaning somewhere in the middle.... Sir Ed Davey, Acting Leader of the Liberal Democrats',\n",
       "       'Q14 Do you know the name of your current Member of Parliament?',\n",
       "       'Q15 Do you approve of the performance of your local MP?',\n",
       "       'Q16 Have you received any communication from your local MP in the past month? (eg. leaflets, adverts, door-knocking)',\n",
       "       'Q17 Please rank the following issues in order of importance for the *country* - with 1 as the most important and 8 as the least important.... Britain leaving the EU',\n",
       "       'Q17 Please rank the following issues in order of importance for the *country* - with 1 as the most important and 8 as the least important.... Education and schools',\n",
       "       'Q17 Please rank the following issues in order of importance for the *country* - with 1 as the most important and 8 as the least important.... Helping the country recover from Covid-19',\n",
       "       'Q17 Please rank the following issues in order of importance for the *country* - with 1 as the most important and 8 as the least important.... Jobs and the economy',\n",
       "       'Q17 Please rank the following issues in order of importance for the *country* - with 1 as the most important and 8 as the least important.... Protecting the environment / climate change',\n",
       "       'Q17 Please rank the following issues in order of importance for the *country* - with 1 as the most important and 8 as the least important.... Ranked 1st',\n",
       "       'Q17 Please rank the following issues in order of importance for the *country* - with 1 as the most important and 8 as the least important.... Ranked 2nd',\n",
       "       'Q17 Please rank the following issues in order of importance for the *country* - with 1 as the most important and 8 as the least important.... Ranked 3rd',\n",
       "       'Q17 Please rank the following issues in order of importance for the *country* - with 1 as the most important and 8 as the least important.... Ranked 4th',\n",
       "       'Q17 Please rank the following issues in order of importance for the *country* - with 1 as the most important and 8 as the least important.... Ranked 5th',\n",
       "       'Q17 Please rank the following issues in order of importance for the *country* - with 1 as the most important and 8 as the least important.... Ranked 6th',\n",
       "       'Q17 Please rank the following issues in order of importance for the *country* - with 1 as the most important and 8 as the least important.... Ranked 7th',\n",
       "       'Q17 Please rank the following issues in order of importance for the *country* - with 1 as the most important and 8 as the least important.... Ranked 8th',\n",
       "       'Q17 Please rank the following issues in order of importance for the *country* - with 1 as the most important and 8 as the least important.... The NHS and social care',\n",
       "       'Q17 Please rank the following issues in order of importance for the *country* - with 1 as the most important and 8 as the least important.... The level of immigration',\n",
       "       'Q17 Please rank the following issues in order of importance for the *country* - with 1 as the most important and 8 as the least important.... Transport and infrastructure (eg. roads, trains, bus routes)',\n",
       "       'Q18 Please rank the following issues in order of importance for *your local area* - with 1 as the most important and 8 as the least important.... Britain leaving the EU',\n",
       "       'Q18 Please rank the following issues in order of importance for *your local area* - with 1 as the most important and 8 as the least important.... Education and schools',\n",
       "       'Q18 Please rank the following issues in order of importance for *your local area* - with 1 as the most important and 8 as the least important.... Helping your area recover from Covid-19',\n",
       "       'Q18 Please rank the following issues in order of importance for *your local area* - with 1 as the most important and 8 as the least important.... Jobs and the economy',\n",
       "       'Q18 Please rank the following issues in order of importance for *your local area* - with 1 as the most important and 8 as the least important.... Protecting the environment / climate change',\n",
       "       'Q18 Please rank the following issues in order of importance for *your local area* - with 1 as the most important and 8 as the least important.... Ranked 1st',\n",
       "       'Q18 Please rank the following issues in order of importance for *your local area* - with 1 as the most important and 8 as the least important.... Ranked 2nd',\n",
       "       'Q18 Please rank the following issues in order of importance for *your local area* - with 1 as the most important and 8 as the least important.... Ranked 3rd',\n",
       "       'Q18 Please rank the following issues in order of importance for *your local area* - with 1 as the most important and 8 as the least important.... Ranked 4th',\n",
       "       'Q18 Please rank the following issues in order of importance for *your local area* - with 1 as the most important and 8 as the least important.... Ranked 5th',\n",
       "       'Q18 Please rank the following issues in order of importance for *your local area* - with 1 as the most important and 8 as the least important.... Ranked 6th',\n",
       "       'Q18 Please rank the following issues in order of importance for *your local area* - with 1 as the most important and 8 as the least important.... Ranked 7th',\n",
       "       'Q18 Please rank the following issues in order of importance for *your local area* - with 1 as the most important and 8 as the least important.... Ranked 8th',\n",
       "       'Q18 Please rank the following issues in order of importance for *your local area* - with 1 as the most important and 8 as the least important.... The NHS and social care',\n",
       "       'Q18 Please rank the following issues in order of importance for *your local area* - with 1 as the most important and 8 as the least important.... The level of immigration',\n",
       "       'Q18 Please rank the following issues in order of importance for *your local area* - with 1 as the most important and 8 as the least important.... Transport and infrastructure (eg. roads, trains, bus routes)',\n",
       "       'Q19', 'Q20 In which region of the UK do you reside?',\n",
       "       'Q21 What is your year of birth?', 'Q22', 'Q23', 'postcode',\n",
       "       'westminster_constituency'],\n",
       "      dtype='object')"
      ]
     },
     "execution_count": 139,
     "metadata": {},
     "output_type": "execute_result"
    }
   ],
   "source": [
    "df.columns"
   ]
  },
  {
   "cell_type": "code",
   "execution_count": 134,
   "metadata": {},
   "outputs": [
    {
     "data": {
      "text/plain": [
       "Index(['is_preview', 'survey_id', 'respondent_id', 'start_time', 'end_time',\n",
       "       'Q1 Which country do you live in?', 'Q2 What is your gender?',\n",
       "       'Q3 What is the highest level of education you've attained?',\n",
       "       'Q4 What region of the UK do you live in?',\n",
       "       'Q5 What is your postcode? For example, if your postcode is 'SW1A 1AA', please enter 'SW1A 1' - the first part of the postcode and the first digit of the second part.',\n",
       "       'Q7 How did you vote in the 2016 EU Referendum?',\n",
       "       'Q8.0 Did you vote in the 2019 General Election?',\n",
       "       'Q8.1 If so, how did you vote in the 2019 General Election?',\n",
       "       'Q9 How did you vote in the 2017 General Election?',\n",
       "       'Q10 If an election were held tomorrow, which party, if any, would you vote for?',\n",
       "       'Q11 Overall, do you approve or disapprove of the Government’s performance?',\n",
       "       'Q12.1 Below is a list of political parties. For each could you say on a scale of 0 to 100 how warmly you feel towards them with 0 meaning completely cold, 100 meaning completely warm and 50 meaning somewhere in the middle.... Conservatives',\n",
       "       'Q12.2 Below is a list of political parties. For each could you say on a scale of 0 to 100 how warmly you feel towards them with 0 meaning completely cold, 100 meaning completely warm and 50 meaning somewhere in the middle.... Labour',\n",
       "       'Q12.3 Below is a list of political parties. For each could you say on a scale of 0 to 100 how warmly you feel towards them with 0 meaning completely cold, 100 meaning completely warm and 50 meaning somewhere in the middle.... Liberal Democrats',\n",
       "       'Q12.4 Below is a list of political parties. For each could you say on a scale of 0 to 100 how warmly you feel towards them with 0 meaning completely cold, 100 meaning completely warm and 50 meaning somewhere in the middle.... Brexit Party',\n",
       "       'Q12.5 Below is a list of political parties. For each could you say on a scale of 0 to 100 how warmly you feel towards them with 0 meaning completely cold, 100 meaning completely warm and 50 meaning somewhere in the middle.... Greens',\n",
       "       'Q12.6 Below is a list of political parties. For each could you say on a scale of 0 to 100 how warmly you feel towards them with 0 meaning completely cold, 100 meaning completely warm and 50 meaning somewhere in the middle.... Scottish National Party',\n",
       "       'Q12.7 Below is a list of political parties. For each could you say on a scale of 0 to 100 how warmly you feel towards them with 0 meaning completely cold, 100 meaning completely warm and 50 meaning somewhere in the middle.... Plaid Cymru',\n",
       "       'Q13.1 Below is a list of political figures. For each could you say on a scale of 0 to 100 how warmly you feel towards them with 0 meaning completely cold, 100 meaning completely warm and 50 meaning somewhere in the middle.... Boris Johnson, the Prime Minister',\n",
       "       'Q13.2 Below is a list of political figures. For each could you say on a scale of 0 to 100 how warmly you feel towards them with 0 meaning completely cold, 100 meaning completely warm and 50 meaning somewhere in the middle.... Rishi Sunak, the Chancellor',\n",
       "       'Q13.3 Below is a list of political figures. For each could you say on a scale of 0 to 100 how warmly you feel towards them with 0 meaning completely cold, 100 meaning completely warm and 50 meaning somewhere in the middle.... Matt Hancock, the Health Secretary',\n",
       "       'Q13.4 Below is a list of political figures. For each could you say on a scale of 0 to 100 how warmly you feel towards them with 0 meaning completely cold, 100 meaning completely warm and 50 meaning somewhere in the middle.... Priti Patel, the Home Secretary',\n",
       "       'Q13.5 Below is a list of political figures. For each could you say on a scale of 0 to 100 how warmly you feel towards them with 0 meaning completely cold, 100 meaning completely warm and 50 meaning somewhere in the middle.... Dominic Raab, the Foreign Secretary',\n",
       "       'Q13.6 Below is a list of political figures. For each could you say on a scale of 0 to 100 how warmly you feel towards them with 0 meaning completely cold, 100 meaning completely warm and 50 meaning somewhere in the middle.... Sir Keir Starmer, the Leader of the Opposition',\n",
       "       'Q13.7 Below is a list of political figures. For each could you say on a scale of 0 to 100 how warmly you feel towards them with 0 meaning completely cold, 100 meaning completely warm and 50 meaning somewhere in the middle.... Nicola Sturgeon, the First Minister of Scotland',\n",
       "       'Q13.8 Below is a list of political figures. For each could you say on a scale of 0 to 100 how warmly you feel towards them with 0 meaning completely cold, 100 meaning completely warm and 50 meaning somewhere in the middle.... Nigel Farage, Leader of the Brexit Party',\n",
       "       'Q13.9 Below is a list of political figures. For each could you say on a scale of 0 to 100 how warmly you feel towards them with 0 meaning completely cold, 100 meaning completely warm and 50 meaning somewhere in the middle.... Sir Ed Davey, Acting Leader of the Liberal Democrats',\n",
       "       'Q14 Do you know the name of your current Member of Parliament?',\n",
       "       'Q15 Do you approve of the performance of your local MP?',\n",
       "       'Q16 Have you received any communication from your local MP in the past month? (eg. leaflets, adverts, door-knocking)',\n",
       "       'Q17 Please rank the following issues in order of importance for the *country* - with 1 as the most important and 8 as the least important.... Britain leaving the EU',\n",
       "       'Q17 Please rank the following issues in order of importance for the *country* - with 1 as the most important and 8 as the least important.... Education and schools',\n",
       "       'Q17 Please rank the following issues in order of importance for the *country* - with 1 as the most important and 8 as the least important.... Helping the country recover from Covid-19',\n",
       "       'Q17 Please rank the following issues in order of importance for the *country* - with 1 as the most important and 8 as the least important.... Jobs and the economy',\n",
       "       'Q17 Please rank the following issues in order of importance for the *country* - with 1 as the most important and 8 as the least important.... Protecting the environment / climate change',\n",
       "       'Q17 Please rank the following issues in order of importance for the *country* - with 1 as the most important and 8 as the least important.... Ranked 1st',\n",
       "       'Q17 Please rank the following issues in order of importance for the *country* - with 1 as the most important and 8 as the least important.... Ranked 2nd',\n",
       "       'Q17 Please rank the following issues in order of importance for the *country* - with 1 as the most important and 8 as the least important.... Ranked 3rd',\n",
       "       'Q17 Please rank the following issues in order of importance for the *country* - with 1 as the most important and 8 as the least important.... Ranked 4th',\n",
       "       'Q17 Please rank the following issues in order of importance for the *country* - with 1 as the most important and 8 as the least important.... Ranked 5th',\n",
       "       'Q17 Please rank the following issues in order of importance for the *country* - with 1 as the most important and 8 as the least important.... Ranked 6th',\n",
       "       'Q17 Please rank the following issues in order of importance for the *country* - with 1 as the most important and 8 as the least important.... Ranked 7th',\n",
       "       'Q17 Please rank the following issues in order of importance for the *country* - with 1 as the most important and 8 as the least important.... Ranked 8th',\n",
       "       'Q17 Please rank the following issues in order of importance for the *country* - with 1 as the most important and 8 as the least important.... The NHS and social care',\n",
       "       'Q17 Please rank the following issues in order of importance for the *country* - with 1 as the most important and 8 as the least important.... The level of immigration',\n",
       "       'Q17 Please rank the following issues in order of importance for the *country* - with 1 as the most important and 8 as the least important.... Transport and infrastructure (eg. roads, trains, bus routes)',\n",
       "       'Q18 Please rank the following issues in order of importance for *your local area* - with 1 as the most important and 8 as the least important.... Britain leaving the EU',\n",
       "       'Q18 Please rank the following issues in order of importance for *your local area* - with 1 as the most important and 8 as the least important.... Education and schools',\n",
       "       'Q18 Please rank the following issues in order of importance for *your local area* - with 1 as the most important and 8 as the least important.... Helping your area recover from Covid-19',\n",
       "       'Q18 Please rank the following issues in order of importance for *your local area* - with 1 as the most important and 8 as the least important.... Jobs and the economy',\n",
       "       'Q18 Please rank the following issues in order of importance for *your local area* - with 1 as the most important and 8 as the least important.... Protecting the environment / climate change',\n",
       "       'Q18 Please rank the following issues in order of importance for *your local area* - with 1 as the most important and 8 as the least important.... Ranked 1st',\n",
       "       'Q18 Please rank the following issues in order of importance for *your local area* - with 1 as the most important and 8 as the least important.... Ranked 2nd',\n",
       "       'Q18 Please rank the following issues in order of importance for *your local area* - with 1 as the most important and 8 as the least important.... Ranked 3rd',\n",
       "       'Q18 Please rank the following issues in order of importance for *your local area* - with 1 as the most important and 8 as the least important.... Ranked 4th',\n",
       "       'Q18 Please rank the following issues in order of importance for *your local area* - with 1 as the most important and 8 as the least important.... Ranked 5th',\n",
       "       'Q18 Please rank the following issues in order of importance for *your local area* - with 1 as the most important and 8 as the least important.... Ranked 6th',\n",
       "       'Q18 Please rank the following issues in order of importance for *your local area* - with 1 as the most important and 8 as the least important.... Ranked 7th',\n",
       "       'Q18 Please rank the following issues in order of importance for *your local area* - with 1 as the most important and 8 as the least important.... Ranked 8th',\n",
       "       'Q18 Please rank the following issues in order of importance for *your local area* - with 1 as the most important and 8 as the least important.... The NHS and social care',\n",
       "       'Q18 Please rank the following issues in order of importance for *your local area* - with 1 as the most important and 8 as the least important.... The level of immigration',\n",
       "       'Q18 Please rank the following issues in order of importance for *your local area* - with 1 as the most important and 8 as the least important.... Transport and infrastructure (eg. roads, trains, bus routes)',\n",
       "       'Q19', 'Q20 In which region of the UK do you reside?',\n",
       "       'Q21 What is your year of birth?', 'Q22', 'Q23'],\n",
       "      dtype='object')"
      ]
     },
     "execution_count": 134,
     "metadata": {},
     "output_type": "execute_result"
    }
   ],
   "source": [
    "raw_df.columns"
   ]
  },
  {
   "cell_type": "code",
   "execution_count": 148,
   "metadata": {},
   "outputs": [],
   "source": [
    "years = pd.to_numeric(raw_df['Q21 What is your year of birth?'], errors = 'coerce')"
   ]
  },
  {
   "cell_type": "code",
   "execution_count": 150,
   "metadata": {},
   "outputs": [],
   "source": [
    "from datetime import date \n",
    "  \n",
    "def calculateAge(year):\n",
    "    try:\n",
    "        today = date.today() \n",
    "        age = today.year -  year\n",
    "    except ValueError:\n",
    "        pass\n",
    "    return age "
   ]
  },
  {
   "cell_type": "code",
   "execution_count": 151,
   "metadata": {},
   "outputs": [],
   "source": [
    "ages = calculateAge(years)"
   ]
  },
  {
   "cell_type": "code",
   "execution_count": 153,
   "metadata": {},
   "outputs": [
    {
     "data": {
      "text/plain": [
       "pandas.core.series.Series"
      ]
     },
     "execution_count": 153,
     "metadata": {},
     "output_type": "execute_result"
    }
   ],
   "source": [
    "type(ages)"
   ]
  },
  {
   "cell_type": "code",
   "execution_count": null,
   "metadata": {},
   "outputs": [],
   "source": []
  },
  {
   "cell_type": "markdown",
   "metadata": {},
   "source": [
    "Getting rid of really sparse columns"
   ]
  },
  {
   "cell_type": "code",
   "execution_count": 109,
   "metadata": {},
   "outputs": [],
   "source": [
    "raw_df = raw_df[raw_df.columns[raw_df.count() > 10]]"
   ]
  },
  {
   "cell_type": "code",
   "execution_count": 110,
   "metadata": {},
   "outputs": [
    {
     "data": {
      "text/plain": [
       "Index(['is_preview', 'survey_id', 'respondent_id', 'start_time', 'end_time',\n",
       "       'Q1 Which country do you live in?', 'Q2 What is your gender?',\n",
       "       'Q3 What is the highest level of education you've attained?',\n",
       "       'Q4 What region of the UK do you live in?',\n",
       "       'Q5 What is your postcode? For example, if your postcode is 'SW1A 1AA', please enter 'SW1A 1' - the first part of the postcode and the first digit of the second part.',\n",
       "       'Q7 How did you vote in the 2016 EU Referendum?',\n",
       "       'Q8.0 Did you vote in the 2019 General Election?',\n",
       "       'Q8.1 If so, how did you vote in the 2019 General Election?',\n",
       "       'Q9 How did you vote in the 2017 General Election?',\n",
       "       'Q10 If an election were held tomorrow, which party, if any, would you vote for?',\n",
       "       'Q11 Overall, do you approve or disapprove of the Government’s performance?',\n",
       "       'Q12.1 Below is a list of political parties. For each could you say on a scale of 0 to 100 how warmly you feel towards them with 0 meaning completely cold, 100 meaning completely warm and 50 meaning somewhere in the middle.... Conservatives',\n",
       "       'Q12.2 Below is a list of political parties. For each could you say on a scale of 0 to 100 how warmly you feel towards them with 0 meaning completely cold, 100 meaning completely warm and 50 meaning somewhere in the middle.... Labour',\n",
       "       'Q12.3 Below is a list of political parties. For each could you say on a scale of 0 to 100 how warmly you feel towards them with 0 meaning completely cold, 100 meaning completely warm and 50 meaning somewhere in the middle.... Liberal Democrats',\n",
       "       'Q12.4 Below is a list of political parties. For each could you say on a scale of 0 to 100 how warmly you feel towards them with 0 meaning completely cold, 100 meaning completely warm and 50 meaning somewhere in the middle.... Brexit Party',\n",
       "       'Q12.5 Below is a list of political parties. For each could you say on a scale of 0 to 100 how warmly you feel towards them with 0 meaning completely cold, 100 meaning completely warm and 50 meaning somewhere in the middle.... Greens',\n",
       "       'Q12.6 Below is a list of political parties. For each could you say on a scale of 0 to 100 how warmly you feel towards them with 0 meaning completely cold, 100 meaning completely warm and 50 meaning somewhere in the middle.... Scottish National Party',\n",
       "       'Q12.7 Below is a list of political parties. For each could you say on a scale of 0 to 100 how warmly you feel towards them with 0 meaning completely cold, 100 meaning completely warm and 50 meaning somewhere in the middle.... Plaid Cymru',\n",
       "       'Q13.1 Below is a list of political figures. For each could you say on a scale of 0 to 100 how warmly you feel towards them with 0 meaning completely cold, 100 meaning completely warm and 50 meaning somewhere in the middle.... Boris Johnson, the Prime Minister',\n",
       "       'Q13.2 Below is a list of political figures. For each could you say on a scale of 0 to 100 how warmly you feel towards them with 0 meaning completely cold, 100 meaning completely warm and 50 meaning somewhere in the middle.... Rishi Sunak, the Chancellor',\n",
       "       'Q13.3 Below is a list of political figures. For each could you say on a scale of 0 to 100 how warmly you feel towards them with 0 meaning completely cold, 100 meaning completely warm and 50 meaning somewhere in the middle.... Matt Hancock, the Health Secretary',\n",
       "       'Q13.4 Below is a list of political figures. For each could you say on a scale of 0 to 100 how warmly you feel towards them with 0 meaning completely cold, 100 meaning completely warm and 50 meaning somewhere in the middle.... Priti Patel, the Home Secretary',\n",
       "       'Q13.5 Below is a list of political figures. For each could you say on a scale of 0 to 100 how warmly you feel towards them with 0 meaning completely cold, 100 meaning completely warm and 50 meaning somewhere in the middle.... Dominic Raab, the Foreign Secretary',\n",
       "       'Q13.6 Below is a list of political figures. For each could you say on a scale of 0 to 100 how warmly you feel towards them with 0 meaning completely cold, 100 meaning completely warm and 50 meaning somewhere in the middle.... Sir Keir Starmer, the Leader of the Opposition',\n",
       "       'Q13.7 Below is a list of political figures. For each could you say on a scale of 0 to 100 how warmly you feel towards them with 0 meaning completely cold, 100 meaning completely warm and 50 meaning somewhere in the middle.... Nicola Sturgeon, the First Minister of Scotland',\n",
       "       'Q13.8 Below is a list of political figures. For each could you say on a scale of 0 to 100 how warmly you feel towards them with 0 meaning completely cold, 100 meaning completely warm and 50 meaning somewhere in the middle.... Nigel Farage, Leader of the Brexit Party',\n",
       "       'Q13.9 Below is a list of political figures. For each could you say on a scale of 0 to 100 how warmly you feel towards them with 0 meaning completely cold, 100 meaning completely warm and 50 meaning somewhere in the middle.... Sir Ed Davey, Acting Leader of the Liberal Democrats',\n",
       "       'Q14 Do you know the name of your current Member of Parliament?',\n",
       "       'Q15 Do you approve of the performance of your local MP?',\n",
       "       'Q16 Have you received any communication from your local MP in the past month? (eg. leaflets, adverts, door-knocking)',\n",
       "       'Q17 Please rank the following issues in order of importance for the *country* - with 1 as the most important and 8 as the least important.... Britain leaving the EU',\n",
       "       'Q17 Please rank the following issues in order of importance for the *country* - with 1 as the most important and 8 as the least important.... Education and schools',\n",
       "       'Q17 Please rank the following issues in order of importance for the *country* - with 1 as the most important and 8 as the least important.... Helping the country recover from Covid-19',\n",
       "       'Q17 Please rank the following issues in order of importance for the *country* - with 1 as the most important and 8 as the least important.... Jobs and the economy',\n",
       "       'Q17 Please rank the following issues in order of importance for the *country* - with 1 as the most important and 8 as the least important.... Protecting the environment / climate change',\n",
       "       'Q17 Please rank the following issues in order of importance for the *country* - with 1 as the most important and 8 as the least important.... Ranked 1st',\n",
       "       'Q17 Please rank the following issues in order of importance for the *country* - with 1 as the most important and 8 as the least important.... Ranked 2nd',\n",
       "       'Q17 Please rank the following issues in order of importance for the *country* - with 1 as the most important and 8 as the least important.... Ranked 3rd',\n",
       "       'Q17 Please rank the following issues in order of importance for the *country* - with 1 as the most important and 8 as the least important.... Ranked 4th',\n",
       "       'Q17 Please rank the following issues in order of importance for the *country* - with 1 as the most important and 8 as the least important.... Ranked 5th',\n",
       "       'Q17 Please rank the following issues in order of importance for the *country* - with 1 as the most important and 8 as the least important.... Ranked 6th',\n",
       "       'Q17 Please rank the following issues in order of importance for the *country* - with 1 as the most important and 8 as the least important.... Ranked 7th',\n",
       "       'Q17 Please rank the following issues in order of importance for the *country* - with 1 as the most important and 8 as the least important.... Ranked 8th',\n",
       "       'Q17 Please rank the following issues in order of importance for the *country* - with 1 as the most important and 8 as the least important.... The NHS and social care',\n",
       "       'Q17 Please rank the following issues in order of importance for the *country* - with 1 as the most important and 8 as the least important.... The level of immigration',\n",
       "       'Q17 Please rank the following issues in order of importance for the *country* - with 1 as the most important and 8 as the least important.... Transport and infrastructure (eg. roads, trains, bus routes)',\n",
       "       'Q18 Please rank the following issues in order of importance for *your local area* - with 1 as the most important and 8 as the least important.... Britain leaving the EU',\n",
       "       'Q18 Please rank the following issues in order of importance for *your local area* - with 1 as the most important and 8 as the least important.... Education and schools',\n",
       "       'Q18 Please rank the following issues in order of importance for *your local area* - with 1 as the most important and 8 as the least important.... Helping your area recover from Covid-19',\n",
       "       'Q18 Please rank the following issues in order of importance for *your local area* - with 1 as the most important and 8 as the least important.... Jobs and the economy',\n",
       "       'Q18 Please rank the following issues in order of importance for *your local area* - with 1 as the most important and 8 as the least important.... Protecting the environment / climate change',\n",
       "       'Q18 Please rank the following issues in order of importance for *your local area* - with 1 as the most important and 8 as the least important.... Ranked 1st',\n",
       "       'Q18 Please rank the following issues in order of importance for *your local area* - with 1 as the most important and 8 as the least important.... Ranked 2nd',\n",
       "       'Q18 Please rank the following issues in order of importance for *your local area* - with 1 as the most important and 8 as the least important.... Ranked 3rd',\n",
       "       'Q18 Please rank the following issues in order of importance for *your local area* - with 1 as the most important and 8 as the least important.... Ranked 4th',\n",
       "       'Q18 Please rank the following issues in order of importance for *your local area* - with 1 as the most important and 8 as the least important.... Ranked 5th',\n",
       "       'Q18 Please rank the following issues in order of importance for *your local area* - with 1 as the most important and 8 as the least important.... Ranked 6th',\n",
       "       'Q18 Please rank the following issues in order of importance for *your local area* - with 1 as the most important and 8 as the least important.... Ranked 7th',\n",
       "       'Q18 Please rank the following issues in order of importance for *your local area* - with 1 as the most important and 8 as the least important.... Ranked 8th',\n",
       "       'Q18 Please rank the following issues in order of importance for *your local area* - with 1 as the most important and 8 as the least important.... The NHS and social care',\n",
       "       'Q18 Please rank the following issues in order of importance for *your local area* - with 1 as the most important and 8 as the least important.... The level of immigration',\n",
       "       'Q18 Please rank the following issues in order of importance for *your local area* - with 1 as the most important and 8 as the least important.... Transport and infrastructure (eg. roads, trains, bus routes)',\n",
       "       'Q20 In which region of the UK do you reside?',\n",
       "       'Q21 What is your year of birth?'],\n",
       "      dtype='object')"
      ]
     },
     "execution_count": 110,
     "metadata": {},
     "output_type": "execute_result"
    }
   ],
   "source": [
    "cols = raw_df.columns\n",
    "cols"
   ]
  },
  {
   "cell_type": "code",
   "execution_count": 143,
   "metadata": {},
   "outputs": [
    {
     "data": {
      "text/plain": [
       "<matplotlib.axes._subplots.AxesSubplot at 0x2895bc8f0c8>"
      ]
     },
     "execution_count": 143,
     "metadata": {},
     "output_type": "execute_result"
    },
    {
     "data": {
      "image/png": "[encoded data removed]",
      "text/plain": [
       "<Figure size 432x288 with 1 Axes>"
      ]
     },
     "metadata": {
      "needs_background": "light"
     },
     "output_type": "display_data"
    }
   ],
   "source": [
    "data['Q21 What is your year of birth?'].value_counts().plot(kind=\"bar\")"
   ]
  },
  {
   "cell_type": "code",
   "execution_count": null,
   "metadata": {},
   "outputs": [],
   "source": []
  },
  {
   "cell_type": "code",
   "execution_count": null,
   "metadata": {},
   "outputs": [],
   "source": []
  },
  {
   "cell_type": "code",
   "execution_count": null,
   "metadata": {},
   "outputs": [],
   "source": []
  },
  {
   "cell_type": "code",
   "execution_count": null,
   "metadata": {},
   "outputs": [],
   "source": []
  },
  {
   "cell_type": "code",
   "execution_count": null,
   "metadata": {},
   "outputs": [],
   "source": []
  },
  {
   "cell_type": "code",
   "execution_count": 80,
   "metadata": {},
   "outputs": [
    {
     "name": "stdout",
     "output_type": "stream",
     "text": [
      "<class 'pandas.core.frame.DataFrame'>\n",
      "RangeIndex: 894 entries, 0 to 893\n",
      "Data columns (total 72 columns):\n",
      " #   Column                                                                                                                                                                                                                                                                                  Non-Null Count  Dtype  \n",
      "---  ------                                                                                                                                                                                                                                                                                  --------------  -----  \n",
      " 0   is_preview                                                                                                                                                                                                                                                                              820 non-null    object \n",
      " 1   survey_id                                                                                                                                                                                                                                                                               844 non-null    object \n",
      " 2   respondent_id                                                                                                                                                                                                                                                                           838 non-null    object \n",
      " 3   start_time                                                                                                                                                                                                                                                                              894 non-null    object \n",
      " 4   end_time                                                                                                                                                                                                                                                                                894 non-null    object \n",
      " 5   Q1 Which country do you live in?                                                                                                                                                                                                                                                        842 non-null    object \n",
      " 6   Q2 What is your gender?                                                                                                                                                                                                                                                                 843 non-null    object \n",
      " 7   Q3 What is the highest level of education you've attained?                                                                                                                                                                                                                              865 non-null    object \n",
      " 8   Q4 What region of the UK do you live in?                                                                                                                                                                                                                                                839 non-null    object \n",
      " 9   Q5 What is your postcode? For example, if your postcode is 'SW1A 1AA', please enter 'SW1A 1' - the first part of the postcode and the first digit of the second part.                                                                                                                   824 non-null    object \n",
      " 10  Q7 How did you vote in the 2016 EU Referendum?                                                                                                                                                                                                                                          835 non-null    object \n",
      " 11  Q8.0 Did you vote in the 2019 General Election?                                                                                                                                                                                                                                         873 non-null    object \n",
      " 12  Q8.1 If so, how did you vote in the 2019 General Election?                                                                                                                                                                                                                              849 non-null    object \n",
      " 13  Q9 How did you vote in the 2017 General Election?                                                                                                                                                                                                                                       837 non-null    object \n",
      " 14  Q10 If an election were held tomorrow, which party, if any, would you vote for?                                                                                                                                                                                                         878 non-null    object \n",
      " 15  Q11 Overall, do you approve or disapprove of the Government’s performance?                                                                                                                                                                                                              824 non-null    object \n",
      " 16  Q12.1 Below is a list of political parties. For each could you say on a scale of 0 to 100 how warmly you feel towards them with 0 meaning completely cold, 100 meaning completely warm and 50 meaning somewhere in the middle.... Conservatives                                         813 non-null    object \n",
      " 17  Q12.2 Below is a list of political parties. For each could you say on a scale of 0 to 100 how warmly you feel towards them with 0 meaning completely cold, 100 meaning completely warm and 50 meaning somewhere in the middle.... Labour                                                828 non-null    object \n",
      " 18  Q12.3 Below is a list of political parties. For each could you say on a scale of 0 to 100 how warmly you feel towards them with 0 meaning completely cold, 100 meaning completely warm and 50 meaning somewhere in the middle.... Liberal Democrats                                     799 non-null    object \n",
      " 19  Q12.4 Below is a list of political parties. For each could you say on a scale of 0 to 100 how warmly you feel towards them with 0 meaning completely cold, 100 meaning completely warm and 50 meaning somewhere in the middle.... Brexit Party                                          805 non-null    object \n",
      " 20  Q12.5 Below is a list of political parties. For each could you say on a scale of 0 to 100 how warmly you feel towards them with 0 meaning completely cold, 100 meaning completely warm and 50 meaning somewhere in the middle.... Greens                                                801 non-null    object \n",
      " 21  Q12.6 Below is a list of political parties. For each could you say on a scale of 0 to 100 how warmly you feel towards them with 0 meaning completely cold, 100 meaning completely warm and 50 meaning somewhere in the middle.... Scottish National Party                               863 non-null    object \n",
      " 22  Q12.7 Below is a list of political parties. For each could you say on a scale of 0 to 100 how warmly you feel towards them with 0 meaning completely cold, 100 meaning completely warm and 50 meaning somewhere in the middle.... Plaid Cymru                                           867 non-null    object \n",
      " 23  Q13.1 Below is a list of political figures. For each could you say on a scale of 0 to 100 how warmly you feel towards them with 0 meaning completely cold, 100 meaning completely warm and 50 meaning somewhere in the middle.... Boris Johnson, the Prime Minister                     820 non-null    object \n",
      " 24  Q13.2 Below is a list of political figures. For each could you say on a scale of 0 to 100 how warmly you feel towards them with 0 meaning completely cold, 100 meaning completely warm and 50 meaning somewhere in the middle.... Rishi Sunak, the Chancellor                           789 non-null    object \n",
      " 25  Q13.3 Below is a list of political figures. For each could you say on a scale of 0 to 100 how warmly you feel towards them with 0 meaning completely cold, 100 meaning completely warm and 50 meaning somewhere in the middle.... Matt Hancock, the Health Secretary                    840 non-null    object \n",
      " 26  Q13.4 Below is a list of political figures. For each could you say on a scale of 0 to 100 how warmly you feel towards them with 0 meaning completely cold, 100 meaning completely warm and 50 meaning somewhere in the middle.... Priti Patel, the Home Secretary                       836 non-null    object \n",
      " 27  Q13.5 Below is a list of political figures. For each could you say on a scale of 0 to 100 how warmly you feel towards them with 0 meaning completely cold, 100 meaning completely warm and 50 meaning somewhere in the middle.... Dominic Raab, the Foreign Secretary                   819 non-null    object \n",
      " 28  Q13.6 Below is a list of political figures. For each could you say on a scale of 0 to 100 how warmly you feel towards them with 0 meaning completely cold, 100 meaning completely warm and 50 meaning somewhere in the middle.... Sir Keir Starmer, the Leader of the Opposition        785 non-null    object \n",
      " 29  Q13.7 Below is a list of political figures. For each could you say on a scale of 0 to 100 how warmly you feel towards them with 0 meaning completely cold, 100 meaning completely warm and 50 meaning somewhere in the middle.... Nicola Sturgeon, the First Minister of Scotland       831 non-null    object \n",
      " 30  Q13.8 Below is a list of political figures. For each could you say on a scale of 0 to 100 how warmly you feel towards them with 0 meaning completely cold, 100 meaning completely warm and 50 meaning somewhere in the middle.... Nigel Farage, Leader of the Brexit Party              820 non-null    object \n",
      " 31  Q13.9 Below is a list of political figures. For each could you say on a scale of 0 to 100 how warmly you feel towards them with 0 meaning completely cold, 100 meaning completely warm and 50 meaning somewhere in the middle.... Sir Ed Davey, Acting Leader of the Liberal Democrats  802 non-null    object \n",
      " 32  Q14 Do you know the name of your current Member of Parliament?                                                                                                                                                                                                                          801 non-null    object \n",
      " 33  Q15 Do you approve of the performance of your local MP?                                                                                                                                                                                                                                 785 non-null    object \n",
      " 34  Q16 Have you received any communication from your local MP in the past month? (eg. leaflets, adverts, door-knocking)                                                                                                                                                                    812 non-null    object \n",
      " 35  Q17 Please rank the following issues in order of importance for the *country* - with 1 as the most important and 8 as the least important.... Britain leaving the EU                                                                                                                    815 non-null    object \n",
      " 36  Q17 Please rank the following issues in order of importance for the *country* - with 1 as the most important and 8 as the least important.... Education and schools                                                                                                                     764 non-null    object \n",
      " 37  Q17 Please rank the following issues in order of importance for the *country* - with 1 as the most important and 8 as the least important.... Helping the country recover from Covid-19                                                                                                 767 non-null    object \n",
      " 38  Q17 Please rank the following issues in order of importance for the *country* - with 1 as the most important and 8 as the least important.... Jobs and the economy                                                                                                                      772 non-null    object \n",
      " 39  Q17 Please rank the following issues in order of importance for the *country* - with 1 as the most important and 8 as the least important.... Protecting the environment / climate change                                                                                               791 non-null    object \n",
      " 40  Q17 Please rank the following issues in order of importance for the *country* - with 1 as the most important and 8 as the least important.... Ranked 1st                                                                                                                                770 non-null    object \n",
      " 41  Q17 Please rank the following issues in order of importance for the *country* - with 1 as the most important and 8 as the least important.... Ranked 2nd                                                                                                                                816 non-null    object \n",
      " 42  Q17 Please rank the following issues in order of importance for the *country* - with 1 as the most important and 8 as the least important.... Ranked 3rd                                                                                                                                780 non-null    object \n",
      " 43  Q17 Please rank the following issues in order of importance for the *country* - with 1 as the most important and 8 as the least important.... Ranked 4th                                                                                                                                802 non-null    object \n",
      " 44  Q17 Please rank the following issues in order of importance for the *country* - with 1 as the most important and 8 as the least important.... Ranked 5th                                                                                                                                770 non-null    object \n",
      " 45  Q17 Please rank the following issues in order of importance for the *country* - with 1 as the most important and 8 as the least important.... Ranked 6th                                                                                                                                791 non-null    object \n",
      " 46  Q17 Please rank the following issues in order of importance for the *country* - with 1 as the most important and 8 as the least important.... Ranked 7th                                                                                                                                781 non-null    object \n",
      " 47  Q17 Please rank the following issues in order of importance for the *country* - with 1 as the most important and 8 as the least important.... Ranked 8th                                                                                                                                790 non-null    object \n",
      " 48  Q17 Please rank the following issues in order of importance for the *country* - with 1 as the most important and 8 as the least important.... The NHS and social care                                                                                                                   792 non-null    object \n",
      " 49  Q17 Please rank the following issues in order of importance for the *country* - with 1 as the most important and 8 as the least important.... The level of immigration                                                                                                                  804 non-null    object \n",
      " 50  Q17 Please rank the following issues in order of importance for the *country* - with 1 as the most important and 8 as the least important.... Transport and infrastructure (eg. roads, trains, bus routes)                                                                              760 non-null    object \n",
      " 51  Q18 Please rank the following issues in order of importance for *your local area* - with 1 as the most important and 8 as the least important.... Britain leaving the EU                                                                                                                794 non-null    object \n",
      " 52  Q18 Please rank the following issues in order of importance for *your local area* - with 1 as the most important and 8 as the least important.... Education and schools                                                                                                                 758 non-null    object \n",
      " 53  Q18 Please rank the following issues in order of importance for *your local area* - with 1 as the most important and 8 as the least important.... Helping your area recover from Covid-19                                                                                               794 non-null    object \n",
      " 54  Q18 Please rank the following issues in order of importance for *your local area* - with 1 as the most important and 8 as the least important.... Jobs and the economy                                                                                                                  795 non-null    object \n",
      " 55  Q18 Please rank the following issues in order of importance for *your local area* - with 1 as the most important and 8 as the least important.... Protecting the environment / climate change                                                                                           800 non-null    object \n",
      " 56  Q18 Please rank the following issues in order of importance for *your local area* - with 1 as the most important and 8 as the least important.... Ranked 1st                                                                                                                            745 non-null    object \n",
      " 57  Q18 Please rank the following issues in order of importance for *your local area* - with 1 as the most important and 8 as the least important.... Ranked 2nd                                                                                                                            794 non-null    object \n",
      " 58  Q18 Please rank the following issues in order of importance for *your local area* - with 1 as the most important and 8 as the least important.... Ranked 3rd                                                                                                                            776 non-null    object \n",
      " 59  Q18 Please rank the following issues in order of importance for *your local area* - with 1 as the most important and 8 as the least important.... Ranked 4th                                                                                                                            775 non-null    object \n",
      " 60  Q18 Please rank the following issues in order of importance for *your local area* - with 1 as the most important and 8 as the least important.... Ranked 5th                                                                                                                            805 non-null    object \n",
      " 61  Q18 Please rank the following issues in order of importance for *your local area* - with 1 as the most important and 8 as the least important.... Ranked 6th                                                                                                                            783 non-null    object \n",
      " 62  Q18 Please rank the following issues in order of importance for *your local area* - with 1 as the most important and 8 as the least important.... Ranked 7th                                                                                                                            763 non-null    object \n",
      " 63  Q18 Please rank the following issues in order of importance for *your local area* - with 1 as the most important and 8 as the least important.... Ranked 8th                                                                                                                            750 non-null    object \n",
      " 64  Q18 Please rank the following issues in order of importance for *your local area* - with 1 as the most important and 8 as the least important.... The NHS and social care                                                                                                               741 non-null    object \n",
      " 65  Q18 Please rank the following issues in order of importance for *your local area* - with 1 as the most important and 8 as the least important.... The level of immigration                                                                                                              780 non-null    object \n",
      " 66  Q18 Please rank the following issues in order of importance for *your local area* - with 1 as the most important and 8 as the least important.... Transport and infrastructure (eg. roads, trains, bus routes)                                                                          745 non-null    object \n",
      " 67  Q19                                                                                                                                                                                                                                                                                     2 non-null      object \n",
      " 68  Q20 In which region of the UK do you reside?                                                                                                                                                                                                                                            847 non-null    object \n",
      " 69  Q21 What is your year of birth?                                                                                                                                                                                                                                                         820 non-null    object \n",
      " 70  Q22                                                                                                                                                                                                                                                                                     1 non-null      float64\n",
      " 71  Q23                                                                                                                                                                                                                                                                                     0 non-null      float64\n",
      "dtypes: float64(2), object(70)\n",
      "memory usage: 503.0+ KB\n"
     ]
    }
   ],
   "source": [
    "data.info()"
   ]
  },
  {
   "cell_type": "code",
   "execution_count": 89,
   "metadata": {},
   "outputs": [
    {
     "data": {
      "text/plain": [
       "(894, 72)"
      ]
     },
     "execution_count": 89,
     "metadata": {},
     "output_type": "execute_result"
    }
   ],
   "source": [
    "data.shape"
   ]
  },
  {
   "cell_type": "code",
   "execution_count": 91,
   "metadata": {},
   "outputs": [
    {
     "data": {
      "text/plain": [
       "(11079, 2)"
      ]
     },
     "execution_count": 91,
     "metadata": {},
     "output_type": "execute_result"
    }
   ],
   "source": [
    "postcode_lookup.shape"
   ]
  },
  {
   "cell_type": "code",
   "execution_count": 49,
   "metadata": {},
   "outputs": [
    {
     "data": {
      "text/plain": [
       "Index(['is_preview', 'survey_id', 'respondent_id', 'start_time', 'end_time',\n",
       "       'Q1 Which country do you live in?', 'Q2 What is your gender?',\n",
       "       'Q3 What is the highest level of education you've attained?',\n",
       "       'Q4 What region of the UK do you live in?',\n",
       "       'Q5 What is your postcode? For example, if your postcode is 'SW1A 1AA', please enter 'SW1A 1' - the first part of the postcode and the first digit of the second part.',\n",
       "       'Q7 How did you vote in the 2016 EU Referendum?',\n",
       "       'Q8.0 Did you vote in the 2019 General Election?',\n",
       "       'Q8.1 If so, how did you vote in the 2019 General Election?',\n",
       "       'Q9 How did you vote in the 2017 General Election?',\n",
       "       'Q10 If an election were held tomorrow, which party, if any, would you vote for?',\n",
       "       'Q11 Overall, do you approve or disapprove of the Government’s performance?',\n",
       "       'Q12.1 Below is a list of political parties. For each could you say on a scale of 0 to 100 how warmly you feel towards them with 0 meaning completely cold, 100 meaning completely warm and 50 meaning somewhere in the middle.... Conservatives',\n",
       "       'Q12.2 Below is a list of political parties. For each could you say on a scale of 0 to 100 how warmly you feel towards them with 0 meaning completely cold, 100 meaning completely warm and 50 meaning somewhere in the middle.... Labour',\n",
       "       'Q12.3 Below is a list of political parties. For each could you say on a scale of 0 to 100 how warmly you feel towards them with 0 meaning completely cold, 100 meaning completely warm and 50 meaning somewhere in the middle.... Liberal Democrats',\n",
       "       'Q12.4 Below is a list of political parties. For each could you say on a scale of 0 to 100 how warmly you feel towards them with 0 meaning completely cold, 100 meaning completely warm and 50 meaning somewhere in the middle.... Brexit Party',\n",
       "       'Q12.5 Below is a list of political parties. For each could you say on a scale of 0 to 100 how warmly you feel towards them with 0 meaning completely cold, 100 meaning completely warm and 50 meaning somewhere in the middle.... Greens',\n",
       "       'Q12.6 Below is a list of political parties. For each could you say on a scale of 0 to 100 how warmly you feel towards them with 0 meaning completely cold, 100 meaning completely warm and 50 meaning somewhere in the middle.... Scottish National Party',\n",
       "       'Q12.7 Below is a list of political parties. For each could you say on a scale of 0 to 100 how warmly you feel towards them with 0 meaning completely cold, 100 meaning completely warm and 50 meaning somewhere in the middle.... Plaid Cymru',\n",
       "       'Q13.1 Below is a list of political figures. For each could you say on a scale of 0 to 100 how warmly you feel towards them with 0 meaning completely cold, 100 meaning completely warm and 50 meaning somewhere in the middle.... Boris Johnson, the Prime Minister',\n",
       "       'Q13.2 Below is a list of political figures. For each could you say on a scale of 0 to 100 how warmly you feel towards them with 0 meaning completely cold, 100 meaning completely warm and 50 meaning somewhere in the middle.... Rishi Sunak, the Chancellor',\n",
       "       'Q13.3 Below is a list of political figures. For each could you say on a scale of 0 to 100 how warmly you feel towards them with 0 meaning completely cold, 100 meaning completely warm and 50 meaning somewhere in the middle.... Matt Hancock, the Health Secretary',\n",
       "       'Q13.4 Below is a list of political figures. For each could you say on a scale of 0 to 100 how warmly you feel towards them with 0 meaning completely cold, 100 meaning completely warm and 50 meaning somewhere in the middle.... Priti Patel, the Home Secretary',\n",
       "       'Q13.5 Below is a list of political figures. For each could you say on a scale of 0 to 100 how warmly you feel towards them with 0 meaning completely cold, 100 meaning completely warm and 50 meaning somewhere in the middle.... Dominic Raab, the Foreign Secretary',\n",
       "       'Q13.6 Below is a list of political figures. For each could you say on a scale of 0 to 100 how warmly you feel towards them with 0 meaning completely cold, 100 meaning completely warm and 50 meaning somewhere in the middle.... Sir Keir Starmer, the Leader of the Opposition',\n",
       "       'Q13.7 Below is a list of political figures. For each could you say on a scale of 0 to 100 how warmly you feel towards them with 0 meaning completely cold, 100 meaning completely warm and 50 meaning somewhere in the middle.... Nicola Sturgeon, the First Minister of Scotland',\n",
       "       'Q13.8 Below is a list of political figures. For each could you say on a scale of 0 to 100 how warmly you feel towards them with 0 meaning completely cold, 100 meaning completely warm and 50 meaning somewhere in the middle.... Nigel Farage, Leader of the Brexit Party',\n",
       "       'Q13.9 Below is a list of political figures. For each could you say on a scale of 0 to 100 how warmly you feel towards them with 0 meaning completely cold, 100 meaning completely warm and 50 meaning somewhere in the middle.... Sir Ed Davey, Acting Leader of the Liberal Democrats',\n",
       "       'Q14 Do you know the name of your current Member of Parliament?',\n",
       "       'Q15 Do you approve of the performance of your local MP?',\n",
       "       'Q16 Have you received any communication from your local MP in the past month? (eg. leaflets, adverts, door-knocking)',\n",
       "       'Q17 Please rank the following issues in order of importance for the *country* - with 1 as the most important and 8 as the least important.... Britain leaving the EU',\n",
       "       'Q17 Please rank the following issues in order of importance for the *country* - with 1 as the most important and 8 as the least important.... Education and schools',\n",
       "       'Q17 Please rank the following issues in order of importance for the *country* - with 1 as the most important and 8 as the least important.... Helping the country recover from Covid-19',\n",
       "       'Q17 Please rank the following issues in order of importance for the *country* - with 1 as the most important and 8 as the least important.... Jobs and the economy',\n",
       "       'Q17 Please rank the following issues in order of importance for the *country* - with 1 as the most important and 8 as the least important.... Protecting the environment / climate change',\n",
       "       'Q17 Please rank the following issues in order of importance for the *country* - with 1 as the most important and 8 as the least important.... Ranked 1st',\n",
       "       'Q17 Please rank the following issues in order of importance for the *country* - with 1 as the most important and 8 as the least important.... Ranked 2nd',\n",
       "       'Q17 Please rank the following issues in order of importance for the *country* - with 1 as the most important and 8 as the least important.... Ranked 3rd',\n",
       "       'Q17 Please rank the following issues in order of importance for the *country* - with 1 as the most important and 8 as the least important.... Ranked 4th',\n",
       "       'Q17 Please rank the following issues in order of importance for the *country* - with 1 as the most important and 8 as the least important.... Ranked 5th',\n",
       "       'Q17 Please rank the following issues in order of importance for the *country* - with 1 as the most important and 8 as the least important.... Ranked 6th',\n",
       "       'Q17 Please rank the following issues in order of importance for the *country* - with 1 as the most important and 8 as the least important.... Ranked 7th',\n",
       "       'Q17 Please rank the following issues in order of importance for the *country* - with 1 as the most important and 8 as the least important.... Ranked 8th',\n",
       "       'Q17 Please rank the following issues in order of importance for the *country* - with 1 as the most important and 8 as the least important.... The NHS and social care',\n",
       "       'Q17 Please rank the following issues in order of importance for the *country* - with 1 as the most important and 8 as the least important.... The level of immigration',\n",
       "       'Q17 Please rank the following issues in order of importance for the *country* - with 1 as the most important and 8 as the least important.... Transport and infrastructure (eg. roads, trains, bus routes)',\n",
       "       'Q18 Please rank the following issues in order of importance for *your local area* - with 1 as the most important and 8 as the least important.... Britain leaving the EU',\n",
       "       'Q18 Please rank the following issues in order of importance for *your local area* - with 1 as the most important and 8 as the least important.... Education and schools',\n",
       "       'Q18 Please rank the following issues in order of importance for *your local area* - with 1 as the most important and 8 as the least important.... Helping your area recover from Covid-19',\n",
       "       'Q18 Please rank the following issues in order of importance for *your local area* - with 1 as the most important and 8 as the least important.... Jobs and the economy',\n",
       "       'Q18 Please rank the following issues in order of importance for *your local area* - with 1 as the most important and 8 as the least important.... Protecting the environment / climate change',\n",
       "       'Q18 Please rank the following issues in order of importance for *your local area* - with 1 as the most important and 8 as the least important.... Ranked 1st',\n",
       "       'Q18 Please rank the following issues in order of importance for *your local area* - with 1 as the most important and 8 as the least important.... Ranked 2nd',\n",
       "       'Q18 Please rank the following issues in order of importance for *your local area* - with 1 as the most important and 8 as the least important.... Ranked 3rd',\n",
       "       'Q18 Please rank the following issues in order of importance for *your local area* - with 1 as the most important and 8 as the least important.... Ranked 4th',\n",
       "       'Q18 Please rank the following issues in order of importance for *your local area* - with 1 as the most important and 8 as the least important.... Ranked 5th',\n",
       "       'Q18 Please rank the following issues in order of importance for *your local area* - with 1 as the most important and 8 as the least important.... Ranked 6th',\n",
       "       'Q18 Please rank the following issues in order of importance for *your local area* - with 1 as the most important and 8 as the least important.... Ranked 7th',\n",
       "       'Q18 Please rank the following issues in order of importance for *your local area* - with 1 as the most important and 8 as the least important.... Ranked 8th',\n",
       "       'Q18 Please rank the following issues in order of importance for *your local area* - with 1 as the most important and 8 as the least important.... The NHS and social care',\n",
       "       'Q18 Please rank the following issues in order of importance for *your local area* - with 1 as the most important and 8 as the least important.... The level of immigration',\n",
       "       'Q18 Please rank the following issues in order of importance for *your local area* - with 1 as the most important and 8 as the least important.... Transport and infrastructure (eg. roads, trains, bus routes)',\n",
       "       'Q19', 'Q20 In which region of the UK do you reside?',\n",
       "       'Q21 What is your year of birth?', 'Q22', 'Q23'],\n",
       "      dtype='object')"
      ]
     },
     "execution_count": 49,
     "metadata": {},
     "output_type": "execute_result"
    }
   ],
   "source": []
  },
  {
   "cell_type": "code",
   "execution_count": 76,
   "metadata": {},
   "outputs": [],
   "source": [
    "def no_nulls(df):\n",
    "    sparse_attrs = df.columns[df.isnull().sum() > 100]\n",
    "    return df.drop(sparse_attrs, axis=1)"
   ]
  },
  {
   "cell_type": "code",
   "execution_count": 87,
   "metadata": {},
   "outputs": [
    {
     "name": "stdout",
     "output_type": "stream",
     "text": [
      "70\n",
      "72\n"
     ]
    }
   ],
   "source": [
    "print(len(data.columns[data.count() > 1]))\n",
    "print(len(data.columns))"
   ]
  },
  {
   "cell_type": "code",
   "execution_count": 58,
   "metadata": {},
   "outputs": [
    {
     "data": {
      "text/plain": [
       "3"
      ]
     },
     "execution_count": 58,
     "metadata": {},
     "output_type": "execute_result"
    }
   ],
   "source": [
    "len(data.columns[data.isnull().sum() > 700])"
   ]
  },
  {
   "cell_type": "code",
   "execution_count": 60,
   "metadata": {},
   "outputs": [
    {
     "data": {
      "text/plain": [
       "is_preview                                       74\n",
       "survey_id                                        50\n",
       "respondent_id                                    56\n",
       "start_time                                        0\n",
       "end_time                                          0\n",
       "                                               ... \n",
       "Q19                                             892\n",
       "Q20 In which region of the UK do you reside?     47\n",
       "Q21 What is your year of birth?                  74\n",
       "Q22                                             893\n",
       "Q23                                             894\n",
       "Length: 72, dtype: int64"
      ]
     },
     "execution_count": 60,
     "metadata": {},
     "output_type": "execute_result"
    }
   ],
   "source": [
    "data.isnull().sum()"
   ]
  },
  {
   "cell_type": "code",
   "execution_count": 75,
   "metadata": {},
   "outputs": [
    {
     "data": {
      "text/plain": [
       "119.72222222222223"
      ]
     },
     "execution_count": 75,
     "metadata": {},
     "output_type": "execute_result"
    }
   ],
   "source": [
    "data.isnull().sum().sum() / len(data.columns)"
   ]
  },
  {
   "cell_type": "code",
   "execution_count": 95,
   "metadata": {},
   "outputs": [
    {
     "data": {
      "text/plain": [
       "<matplotlib.axes._subplots.AxesSubplot at 0x2895a330408>"
      ]
     },
     "execution_count": 95,
     "metadata": {},
     "output_type": "execute_result"
    },
    {
     "data": {
      "image/png": "[encoded data removed]",
      "text/plain": [
       "<Figure size 432x288 with 1 Axes>"
      ]
     },
     "metadata": {
      "needs_background": "light"
     },
     "output_type": "display_data"
    }
   ],
   "source": [
    "data[columns[-9]].value_counts().plot(kind=\"bar\")"
   ]
  },
  {
   "cell_type": "code",
   "execution_count": null,
   "metadata": {},
   "outputs": [],
   "source": []
  },
  {
   "cell_type": "code",
   "execution_count": 156,
   "metadata": {},
   "outputs": [
    {
     "data": {
      "text/html": [
       "<div>\n",
       "<style scoped>\n",
       "    .dataframe tbody tr th:only-of-type {\n",
       "        vertical-align: middle;\n",
       "    }\n",
       "\n",
       "    .dataframe tbody tr th {\n",
       "        vertical-align: top;\n",
       "    }\n",
       "\n",
       "    .dataframe thead th {\n",
       "        text-align: right;\n",
       "    }\n",
       "</style>\n",
       "<table border=\"1\" class=\"dataframe\">\n",
       "  <thead>\n",
       "    <tr style=\"text-align: right;\">\n",
       "      <th></th>\n",
       "      <th>is_preview</th>\n",
       "      <th>survey_id</th>\n",
       "      <th>respondent_id</th>\n",
       "      <th>start_time</th>\n",
       "      <th>end_time</th>\n",
       "      <th>Q1 Which country do you live in?</th>\n",
       "      <th>Q2 What is your gender?</th>\n",
       "      <th>Q3 What is the highest level of education you've attained?</th>\n",
       "      <th>Q4 What region of the UK do you live in?</th>\n",
       "      <th>Q5 What is your postcode? For example, if your postcode is 'SW1A 1AA', please enter 'SW1A 1' - the first part of the postcode and the first digit of the second part.</th>\n",
       "      <th>...</th>\n",
       "      <th>Q18 Please rank the following issues in order of importance for *your local area* - with 1 as the most important and 8 as the least important.... Ranked 7th</th>\n",
       "      <th>Q18 Please rank the following issues in order of importance for *your local area* - with 1 as the most important and 8 as the least important.... Ranked 8th</th>\n",
       "      <th>Q18 Please rank the following issues in order of importance for *your local area* - with 1 as the most important and 8 as the least important.... The NHS and social care</th>\n",
       "      <th>Q18 Please rank the following issues in order of importance for *your local area* - with 1 as the most important and 8 as the least important.... The level of immigration</th>\n",
       "      <th>Q18 Please rank the following issues in order of importance for *your local area* - with 1 as the most important and 8 as the least important.... Transport and infrastructure (eg. roads, trains, bus routes)</th>\n",
       "      <th>Q19</th>\n",
       "      <th>Q20 In which region of the UK do you reside?</th>\n",
       "      <th>Q21 What is your year of birth?</th>\n",
       "      <th>Q22</th>\n",
       "      <th>Q23</th>\n",
       "    </tr>\n",
       "  </thead>\n",
       "  <tbody>\n",
       "    <tr>\n",
       "      <th>0</th>\n",
       "      <td>False</td>\n",
       "      <td>7858f084-89fc-4d61-9659-5bec93ef7706</td>\n",
       "      <td>1596309010</td>\n",
       "      <td>2020-08-01 20:37:40</td>\n",
       "      <td>2020-08-01 20:47:24</td>\n",
       "      <td>England</td>\n",
       "      <td>Female</td>\n",
       "      <td>CSE grade 1, GCE O level, GCSE, School Certifi...</td>\n",
       "      <td>South West</td>\n",
       "      <td>EX2 8</td>\n",
       "      <td>...</td>\n",
       "      <td>Education and schools</td>\n",
       "      <td>Protecting the environment / climate change</td>\n",
       "      <td>Ranked 5th</td>\n",
       "      <td>Ranked 4th</td>\n",
       "      <td>Ranked 6th</td>\n",
       "      <td>NaN</td>\n",
       "      <td>South West</td>\n",
       "      <td>1940</td>\n",
       "      <td>NaN</td>\n",
       "      <td>NaN</td>\n",
       "    </tr>\n",
       "    <tr>\n",
       "      <th>1</th>\n",
       "      <td>False</td>\n",
       "      <td>NaN</td>\n",
       "      <td>1246553700</td>\n",
       "      <td>2020-08-03 19:43:51</td>\n",
       "      <td>2020-08-03 19:53:20</td>\n",
       "      <td>England</td>\n",
       "      <td>NaN</td>\n",
       "      <td>GCE A level or Higher Certificate</td>\n",
       "      <td>East of England</td>\n",
       "      <td>CM18 7</td>\n",
       "      <td>...</td>\n",
       "      <td>NaN</td>\n",
       "      <td>NaN</td>\n",
       "      <td>NaN</td>\n",
       "      <td>NaN</td>\n",
       "      <td>NaN</td>\n",
       "      <td>NaN</td>\n",
       "      <td>East of England</td>\n",
       "      <td>1986</td>\n",
       "      <td>NaN</td>\n",
       "      <td>NaN</td>\n",
       "    </tr>\n",
       "    <tr>\n",
       "      <th>2</th>\n",
       "      <td>False</td>\n",
       "      <td>7858f084-89fc-4d61-9659-5bec93ef7706</td>\n",
       "      <td>9860644420</td>\n",
       "      <td>2020-07-30 18:52:26</td>\n",
       "      <td>2020-07-30 19:00:14</td>\n",
       "      <td>England</td>\n",
       "      <td>Male</td>\n",
       "      <td>University or CNAA higher degree (e.g. M.Sc, P...</td>\n",
       "      <td>East Midlands</td>\n",
       "      <td>NG7 2</td>\n",
       "      <td>...</td>\n",
       "      <td>NaN</td>\n",
       "      <td>The level of immigration</td>\n",
       "      <td>Ranked 4th</td>\n",
       "      <td>Ranked 8th</td>\n",
       "      <td>np.nan</td>\n",
       "      <td>NaN</td>\n",
       "      <td>East Midlands</td>\n",
       "      <td>1995</td>\n",
       "      <td>NaN</td>\n",
       "      <td>NaN</td>\n",
       "    </tr>\n",
       "    <tr>\n",
       "      <th>3</th>\n",
       "      <td>False</td>\n",
       "      <td>7858f084-89fc-4d61-9659-5bec93ef7706</td>\n",
       "      <td>3825252102</td>\n",
       "      <td>2020-08-03 05:47:35</td>\n",
       "      <td>2020-08-03 05:56:37</td>\n",
       "      <td>England</td>\n",
       "      <td>Male</td>\n",
       "      <td>University or CNAA higher degree (e.g. M.Sc, P...</td>\n",
       "      <td>South East</td>\n",
       "      <td>BN3 1</td>\n",
       "      <td>...</td>\n",
       "      <td>Britain leaving the EU</td>\n",
       "      <td>The level of immigration</td>\n",
       "      <td>Ranked 3rd</td>\n",
       "      <td>Ranked 8th</td>\n",
       "      <td>NaN</td>\n",
       "      <td>NaN</td>\n",
       "      <td>South East</td>\n",
       "      <td>NaN</td>\n",
       "      <td>NaN</td>\n",
       "      <td>NaN</td>\n",
       "    </tr>\n",
       "    <tr>\n",
       "      <th>4</th>\n",
       "      <td>False</td>\n",
       "      <td>7858f084-89fc-4d61-9659-5bec93ef7706</td>\n",
       "      <td>4625262873</td>\n",
       "      <td>2020-07-31 14:24:37</td>\n",
       "      <td>2020-07-31 14:33:15</td>\n",
       "      <td>England</td>\n",
       "      <td>Female</td>\n",
       "      <td>City &amp; Guilds certificate - advanced</td>\n",
       "      <td>North West</td>\n",
       "      <td>OL13 0</td>\n",
       "      <td>...</td>\n",
       "      <td>Protecting the environment / climate change</td>\n",
       "      <td>Transport and infrastructure (eg. roads, train...</td>\n",
       "      <td>Ranked 5th</td>\n",
       "      <td>Ranked 4th</td>\n",
       "      <td>Ranked 8th</td>\n",
       "      <td>NaN</td>\n",
       "      <td>North West</td>\n",
       "      <td>1975</td>\n",
       "      <td>NaN</td>\n",
       "      <td>NaN</td>\n",
       "    </tr>\n",
       "    <tr>\n",
       "      <th>...</th>\n",
       "      <td>...</td>\n",
       "      <td>...</td>\n",
       "      <td>...</td>\n",
       "      <td>...</td>\n",
       "      <td>...</td>\n",
       "      <td>...</td>\n",
       "      <td>...</td>\n",
       "      <td>...</td>\n",
       "      <td>...</td>\n",
       "      <td>...</td>\n",
       "      <td>...</td>\n",
       "      <td>...</td>\n",
       "      <td>...</td>\n",
       "      <td>...</td>\n",
       "      <td>...</td>\n",
       "      <td>...</td>\n",
       "      <td>...</td>\n",
       "      <td>...</td>\n",
       "      <td>...</td>\n",
       "      <td>...</td>\n",
       "      <td>...</td>\n",
       "    </tr>\n",
       "    <tr>\n",
       "      <th>889</th>\n",
       "      <td>False</td>\n",
       "      <td>NaN</td>\n",
       "      <td>6682074886</td>\n",
       "      <td>2020-08-03 13:18:47</td>\n",
       "      <td>2020-08-03 13:26:42</td>\n",
       "      <td>England</td>\n",
       "      <td>Female</td>\n",
       "      <td>University or CNAA higher degree (e.g. M.Sc, P...</td>\n",
       "      <td>East Midlands</td>\n",
       "      <td>LE2 1</td>\n",
       "      <td>...</td>\n",
       "      <td>Transport and infrastructure (eg. roads, train...</td>\n",
       "      <td>The level of immigration</td>\n",
       "      <td>Ranked 2nd</td>\n",
       "      <td>Ranked 8th</td>\n",
       "      <td>Ranked 7th</td>\n",
       "      <td>NaN</td>\n",
       "      <td>East Midlands</td>\n",
       "      <td>1956</td>\n",
       "      <td>NaN</td>\n",
       "      <td>NaN</td>\n",
       "    </tr>\n",
       "    <tr>\n",
       "      <th>890</th>\n",
       "      <td>NaN</td>\n",
       "      <td>7858f084-89fc-4d61-9659-5bec93ef7706</td>\n",
       "      <td>4489644514</td>\n",
       "      <td>2020-07-31 15:38:31</td>\n",
       "      <td>2020-07-31 15:46:24</td>\n",
       "      <td>England</td>\n",
       "      <td>Male</td>\n",
       "      <td>University or CNAA higher degree (e.g. M.Sc, P...</td>\n",
       "      <td>NaN</td>\n",
       "      <td>MY H</td>\n",
       "      <td>...</td>\n",
       "      <td>Helping your area recover from Covid-19</td>\n",
       "      <td>Protecting the environment / climate change</td>\n",
       "      <td>Ranked 2nd</td>\n",
       "      <td>Ranked 5th</td>\n",
       "      <td>Ranked 6th</td>\n",
       "      <td>NaN</td>\n",
       "      <td>Wales</td>\n",
       "      <td>1995</td>\n",
       "      <td>NaN</td>\n",
       "      <td>NaN</td>\n",
       "    </tr>\n",
       "    <tr>\n",
       "      <th>891</th>\n",
       "      <td>False</td>\n",
       "      <td>7858f084-89fc-4d61-9659-5bec93ef7706</td>\n",
       "      <td>NaN</td>\n",
       "      <td>2020-08-01 17:37:36</td>\n",
       "      <td>2020-08-01 17:44:49</td>\n",
       "      <td>England</td>\n",
       "      <td>Female</td>\n",
       "      <td>NaN</td>\n",
       "      <td>West Midlands</td>\n",
       "      <td>B30 3</td>\n",
       "      <td>...</td>\n",
       "      <td>Britain leaving the EU</td>\n",
       "      <td>The level of immigration</td>\n",
       "      <td>Ranked 3rd</td>\n",
       "      <td>Ranked 8th</td>\n",
       "      <td>Ranked 6th</td>\n",
       "      <td>NaN</td>\n",
       "      <td>West Midlands</td>\n",
       "      <td>1993</td>\n",
       "      <td>NaN</td>\n",
       "      <td>NaN</td>\n",
       "    </tr>\n",
       "    <tr>\n",
       "      <th>892</th>\n",
       "      <td>False</td>\n",
       "      <td>7858f084-89fc-4d61-9659-5bec93ef7706</td>\n",
       "      <td>3837707000</td>\n",
       "      <td>2020-08-01 09:45:42</td>\n",
       "      <td>2020-08-01 09:54:18</td>\n",
       "      <td>England</td>\n",
       "      <td>Female</td>\n",
       "      <td>University or CNAA first degree (e.g. BA, B.Sc...</td>\n",
       "      <td>London</td>\n",
       "      <td>N21 3</td>\n",
       "      <td>...</td>\n",
       "      <td>Transport and infrastructure (eg. roads, train...</td>\n",
       "      <td>Protecting the environment / climate change</td>\n",
       "      <td>Ranked 2nd</td>\n",
       "      <td>Ranked 5th</td>\n",
       "      <td>Ranked 7th</td>\n",
       "      <td>NaN</td>\n",
       "      <td>London</td>\n",
       "      <td>1996</td>\n",
       "      <td>NaN</td>\n",
       "      <td>NaN</td>\n",
       "    </tr>\n",
       "    <tr>\n",
       "      <th>893</th>\n",
       "      <td>False</td>\n",
       "      <td>7858f084-89fc-4d61-9659-5bec93ef7706</td>\n",
       "      <td>7242554400</td>\n",
       "      <td>2020-08-01 23:28:09</td>\n",
       "      <td>2020-08-01 23:31:04</td>\n",
       "      <td>England</td>\n",
       "      <td>Female</td>\n",
       "      <td>University or CNAA higher degree (e.g. M.Sc, P...</td>\n",
       "      <td>London</td>\n",
       "      <td>HA4 0</td>\n",
       "      <td>...</td>\n",
       "      <td>Helping your area recover from Covid-19</td>\n",
       "      <td>Protecting the environment / climate change</td>\n",
       "      <td>Ranked 2nd</td>\n",
       "      <td>Ranked 5th</td>\n",
       "      <td>Ranked 6th</td>\n",
       "      <td>NaN</td>\n",
       "      <td>London</td>\n",
       "      <td>1982</td>\n",
       "      <td>NaN</td>\n",
       "      <td>NaN</td>\n",
       "    </tr>\n",
       "  </tbody>\n",
       "</table>\n",
       "<p>894 rows × 72 columns</p>\n",
       "</div>"
      ],
      "text/plain": [
       "    is_preview                             survey_id respondent_id  \\\n",
       "0        False  7858f084-89fc-4d61-9659-5bec93ef7706    1596309010   \n",
       "1        False                                   NaN    1246553700   \n",
       "2        False  7858f084-89fc-4d61-9659-5bec93ef7706    9860644420   \n",
       "3        False  7858f084-89fc-4d61-9659-5bec93ef7706    3825252102   \n",
       "4        False  7858f084-89fc-4d61-9659-5bec93ef7706    4625262873   \n",
       "..         ...                                   ...           ...   \n",
       "889      False                                   NaN    6682074886   \n",
       "890        NaN  7858f084-89fc-4d61-9659-5bec93ef7706    4489644514   \n",
       "891      False  7858f084-89fc-4d61-9659-5bec93ef7706           NaN   \n",
       "892      False  7858f084-89fc-4d61-9659-5bec93ef7706    3837707000   \n",
       "893      False  7858f084-89fc-4d61-9659-5bec93ef7706    7242554400   \n",
       "\n",
       "              start_time             end_time  \\\n",
       "0    2020-08-01 20:37:40  2020-08-01 20:47:24   \n",
       "1    2020-08-03 19:43:51  2020-08-03 19:53:20   \n",
       "2    2020-07-30 18:52:26  2020-07-30 19:00:14   \n",
       "3    2020-08-03 05:47:35  2020-08-03 05:56:37   \n",
       "4    2020-07-31 14:24:37  2020-07-31 14:33:15   \n",
       "..                   ...                  ...   \n",
       "889  2020-08-03 13:18:47  2020-08-03 13:26:42   \n",
       "890  2020-07-31 15:38:31  2020-07-31 15:46:24   \n",
       "891  2020-08-01 17:37:36  2020-08-01 17:44:49   \n",
       "892  2020-08-01 09:45:42  2020-08-01 09:54:18   \n",
       "893  2020-08-01 23:28:09  2020-08-01 23:31:04   \n",
       "\n",
       "    Q1 Which country do you live in? Q2 What is your gender?  \\\n",
       "0                            England                  Female   \n",
       "1                            England                     NaN   \n",
       "2                            England                    Male   \n",
       "3                            England                    Male   \n",
       "4                            England                  Female   \n",
       "..                               ...                     ...   \n",
       "889                          England                  Female   \n",
       "890                          England                    Male   \n",
       "891                          England                  Female   \n",
       "892                          England                  Female   \n",
       "893                          England                  Female   \n",
       "\n",
       "    Q3 What is the highest level of education you've attained?  \\\n",
       "0    CSE grade 1, GCE O level, GCSE, School Certifi...           \n",
       "1                   GCE A level or Higher Certificate            \n",
       "2    University or CNAA higher degree (e.g. M.Sc, P...           \n",
       "3    University or CNAA higher degree (e.g. M.Sc, P...           \n",
       "4                City & Guilds certificate - advanced            \n",
       "..                                                 ...           \n",
       "889  University or CNAA higher degree (e.g. M.Sc, P...           \n",
       "890  University or CNAA higher degree (e.g. M.Sc, P...           \n",
       "891                                                NaN           \n",
       "892  University or CNAA first degree (e.g. BA, B.Sc...           \n",
       "893  University or CNAA higher degree (e.g. M.Sc, P...           \n",
       "\n",
       "    Q4 What region of the UK do you live in?  \\\n",
       "0                                 South West   \n",
       "1                            East of England   \n",
       "2                              East Midlands   \n",
       "3                                 South East   \n",
       "4                                 North West   \n",
       "..                                       ...   \n",
       "889                            East Midlands   \n",
       "890                                      NaN   \n",
       "891                            West Midlands   \n",
       "892                                   London   \n",
       "893                                   London   \n",
       "\n",
       "    Q5 What is your postcode? For example, if your postcode is 'SW1A 1AA', please enter 'SW1A 1' - the first part of the postcode and the first digit of the second part.  \\\n",
       "0                                                EX2 8                                                                                                                      \n",
       "1                                               CM18 7                                                                                                                      \n",
       "2                                                NG7 2                                                                                                                      \n",
       "3                                                BN3 1                                                                                                                      \n",
       "4                                               OL13 0                                                                                                                      \n",
       "..                                                 ...                                                                                                                      \n",
       "889                                              LE2 1                                                                                                                      \n",
       "890                                               MY H                                                                                                                      \n",
       "891                                              B30 3                                                                                                                      \n",
       "892                                              N21 3                                                                                                                      \n",
       "893                                              HA4 0                                                                                                                      \n",
       "\n",
       "     ...  \\\n",
       "0    ...   \n",
       "1    ...   \n",
       "2    ...   \n",
       "3    ...   \n",
       "4    ...   \n",
       "..   ...   \n",
       "889  ...   \n",
       "890  ...   \n",
       "891  ...   \n",
       "892  ...   \n",
       "893  ...   \n",
       "\n",
       "    Q18 Please rank the following issues in order of importance for *your local area* - with 1 as the most important and 8 as the least important.... Ranked 7th  \\\n",
       "0                                Education and schools                                                                                                             \n",
       "1                                                  NaN                                                                                                             \n",
       "2                                                  NaN                                                                                                             \n",
       "3                               Britain leaving the EU                                                                                                             \n",
       "4          Protecting the environment / climate change                                                                                                             \n",
       "..                                                 ...                                                                                                             \n",
       "889  Transport and infrastructure (eg. roads, train...                                                                                                             \n",
       "890            Helping your area recover from Covid-19                                                                                                             \n",
       "891                             Britain leaving the EU                                                                                                             \n",
       "892  Transport and infrastructure (eg. roads, train...                                                                                                             \n",
       "893            Helping your area recover from Covid-19                                                                                                             \n",
       "\n",
       "    Q18 Please rank the following issues in order of importance for *your local area* - with 1 as the most important and 8 as the least important.... Ranked 8th  \\\n",
       "0          Protecting the environment / climate change                                                                                                             \n",
       "1                                                  NaN                                                                                                             \n",
       "2                             The level of immigration                                                                                                             \n",
       "3                             The level of immigration                                                                                                             \n",
       "4    Transport and infrastructure (eg. roads, train...                                                                                                             \n",
       "..                                                 ...                                                                                                             \n",
       "889                           The level of immigration                                                                                                             \n",
       "890        Protecting the environment / climate change                                                                                                             \n",
       "891                           The level of immigration                                                                                                             \n",
       "892        Protecting the environment / climate change                                                                                                             \n",
       "893        Protecting the environment / climate change                                                                                                             \n",
       "\n",
       "    Q18 Please rank the following issues in order of importance for *your local area* - with 1 as the most important and 8 as the least important.... The NHS and social care  \\\n",
       "0                                           Ranked 5th                                                                                                                          \n",
       "1                                                  NaN                                                                                                                          \n",
       "2                                           Ranked 4th                                                                                                                          \n",
       "3                                           Ranked 3rd                                                                                                                          \n",
       "4                                           Ranked 5th                                                                                                                          \n",
       "..                                                 ...                                                                                                                          \n",
       "889                                         Ranked 2nd                                                                                                                          \n",
       "890                                         Ranked 2nd                                                                                                                          \n",
       "891                                         Ranked 3rd                                                                                                                          \n",
       "892                                         Ranked 2nd                                                                                                                          \n",
       "893                                         Ranked 2nd                                                                                                                          \n",
       "\n",
       "    Q18 Please rank the following issues in order of importance for *your local area* - with 1 as the most important and 8 as the least important.... The level of immigration  \\\n",
       "0                                           Ranked 4th                                                                                                                           \n",
       "1                                                  NaN                                                                                                                           \n",
       "2                                           Ranked 8th                                                                                                                           \n",
       "3                                           Ranked 8th                                                                                                                           \n",
       "4                                           Ranked 4th                                                                                                                           \n",
       "..                                                 ...                                                                                                                           \n",
       "889                                         Ranked 8th                                                                                                                           \n",
       "890                                         Ranked 5th                                                                                                                           \n",
       "891                                         Ranked 8th                                                                                                                           \n",
       "892                                         Ranked 5th                                                                                                                           \n",
       "893                                         Ranked 5th                                                                                                                           \n",
       "\n",
       "    Q18 Please rank the following issues in order of importance for *your local area* - with 1 as the most important and 8 as the least important.... Transport and infrastructure (eg. roads, trains, bus routes)  \\\n",
       "0                                           Ranked 6th                                                                                                                                                               \n",
       "1                                                  NaN                                                                                                                                                               \n",
       "2                                               np.nan                                                                                                                                                               \n",
       "3                                                  NaN                                                                                                                                                               \n",
       "4                                           Ranked 8th                                                                                                                                                               \n",
       "..                                                 ...                                                                                                                                                               \n",
       "889                                         Ranked 7th                                                                                                                                                               \n",
       "890                                         Ranked 6th                                                                                                                                                               \n",
       "891                                         Ranked 6th                                                                                                                                                               \n",
       "892                                         Ranked 7th                                                                                                                                                               \n",
       "893                                         Ranked 6th                                                                                                                                                               \n",
       "\n",
       "     Q19 Q20 In which region of the UK do you reside?  \\\n",
       "0    NaN                                   South West   \n",
       "1    NaN                              East of England   \n",
       "2    NaN                                East Midlands   \n",
       "3    NaN                                   South East   \n",
       "4    NaN                                   North West   \n",
       "..   ...                                          ...   \n",
       "889  NaN                                East Midlands   \n",
       "890  NaN                                        Wales   \n",
       "891  NaN                                West Midlands   \n",
       "892  NaN                                       London   \n",
       "893  NaN                                       London   \n",
       "\n",
       "    Q21 What is your year of birth? Q22 Q23  \n",
       "0                              1940 NaN NaN  \n",
       "1                              1986 NaN NaN  \n",
       "2                              1995 NaN NaN  \n",
       "3                               NaN NaN NaN  \n",
       "4                              1975 NaN NaN  \n",
       "..                              ...  ..  ..  \n",
       "889                            1956 NaN NaN  \n",
       "890                            1995 NaN NaN  \n",
       "891                            1993 NaN NaN  \n",
       "892                            1996 NaN NaN  \n",
       "893                            1982 NaN NaN  \n",
       "\n",
       "[894 rows x 72 columns]"
      ]
     },
     "execution_count": 156,
     "metadata": {},
     "output_type": "execute_result"
    }
   ],
   "source": [
    "raw_df.drop_duplicates()"
   ]
  },
  {
   "cell_type": "code",
   "execution_count": null,
   "metadata": {},
   "outputs": [],
   "source": []
  },
  {
   "cell_type": "code",
   "execution_count": null,
   "metadata": {},
   "outputs": [],
   "source": []
  },
  {
   "cell_type": "code",
   "execution_count": null,
   "metadata": {},
   "outputs": [],
   "source": []
  },
  {
   "cell_type": "code",
   "execution_count": null,
   "metadata": {},
   "outputs": [],
   "source": []
  },
  {
   "cell_type": "code",
   "execution_count": null,
   "metadata": {},
   "outputs": [],
   "source": []
  },
  {
   "cell_type": "code",
   "execution_count": null,
   "metadata": {},
   "outputs": [],
   "source": []
  },
  {
   "cell_type": "code",
   "execution_count": null,
   "metadata": {},
   "outputs": [],
   "source": []
  },
  {
   "cell_type": "code",
   "execution_count": null,
   "metadata": {},
   "outputs": [],
   "source": []
  },
  {
   "cell_type": "code",
   "execution_count": null,
   "metadata": {},
   "outputs": [],
   "source": []
  },
  {
   "cell_type": "code",
   "execution_count": null,
   "metadata": {},
   "outputs": [],
   "source": []
  },
  {
   "cell_type": "code",
   "execution_count": null,
   "metadata": {},
   "outputs": [],
   "source": []
  },
  {
   "cell_type": "code",
   "execution_count": null,
   "metadata": {},
   "outputs": [],
   "source": []
  },
  {
   "cell_type": "code",
   "execution_count": null,
   "metadata": {},
   "outputs": [],
   "source": []
  },
  {
   "cell_type": "code",
   "execution_count": null,
   "metadata": {},
   "outputs": [],
   "source": []
  },
  {
   "cell_type": "code",
   "execution_count": null,
   "metadata": {},
   "outputs": [],
   "source": []
  },
  {
   "cell_type": "code",
   "execution_count": null,
   "metadata": {},
   "outputs": [],
   "source": []
  },
  {
   "cell_type": "code",
   "execution_count": null,
   "metadata": {},
   "outputs": [],
   "source": []
  },
  {
   "cell_type": "code",
   "execution_count": null,
   "metadata": {},
   "outputs": [],
   "source": []
  },
  {
   "cell_type": "code",
   "execution_count": null,
   "metadata": {},
   "outputs": [],
   "source": []
  },
  {
   "cell_type": "code",
   "execution_count": null,
   "metadata": {},
   "outputs": [],
   "source": []
  },
  {
   "cell_type": "code",
   "execution_count": null,
   "metadata": {},
   "outputs": [],
   "source": []
  },
  {
   "cell_type": "code",
   "execution_count": null,
   "metadata": {},
   "outputs": [],
   "source": []
  },
  {
   "cell_type": "code",
   "execution_count": null,
   "metadata": {},
   "outputs": [],
   "source": []
  },
  {
   "cell_type": "code",
   "execution_count": 51,
   "metadata": {},
   "outputs": [],
   "source": [
    "from datetime import date \n",
    "  \n",
    "def calculateAge(birthDate): \n",
    "    today = date.today() \n",
    "    age = today.year - year \n",
    "  \n",
    "    return age "
   ]
  }
 ],
 "metadata": {
  "kernelspec": {
   "display_name": "Python 3",
   "language": "python",
   "name": "python3"
  },
  "language_info": {
   "codemirror_mode": {
    "name": "ipython",
    "version": 3
   },
   "file_extension": ".py",
   "mimetype": "text/x-python",
   "name": "python",
   "nbconvert_exporter": "python",
   "pygments_lexer": "ipython3",
   "version": "3.7.8"
  }
 },
 "nbformat": 4,
 "nbformat_minor": 4
}
